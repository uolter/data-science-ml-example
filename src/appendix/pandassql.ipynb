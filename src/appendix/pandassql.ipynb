{
 "cells": [
  {
   "cell_type": "markdown",
   "metadata": {},
   "source": [
    "# Make python speak SQL"
   ]
  },
  {
   "cell_type": "code",
   "execution_count": 21,
   "metadata": {
    "collapsed": false
   },
   "outputs": [
    {
     "name": "stdout",
     "output_type": "stream",
     "text": [
      "Requirement already up-to-date: pandas in /opt/conda/lib/python3.4/site-packages\n",
      "Requirement already up-to-date: numpy>=1.7.0 in /opt/conda/lib/python3.4/site-packages (from pandas)\n",
      "Requirement already up-to-date: python-dateutil>=2 in /opt/conda/lib/python3.4/site-packages (from pandas)\n",
      "Requirement already up-to-date: pytz>=2011k in /opt/conda/lib/python3.4/site-packages (from pandas)\n",
      "Requirement already up-to-date: six>=1.5 in /opt/conda/lib/python3.4/site-packages (from python-dateutil>=2->pandas)\n",
      "Requirement already up-to-date: pandasql in /opt/conda/lib/python3.4/site-packages\n",
      "Requirement already up-to-date: pandas in /opt/conda/lib/python3.4/site-packages (from pandasql)\n",
      "Requirement already up-to-date: sqlalchemy in /opt/conda/lib/python3.4/site-packages (from pandasql)\n",
      "Requirement already up-to-date: numpy in /opt/conda/lib/python3.4/site-packages (from pandasql)\n",
      "Requirement already up-to-date: python-dateutil>=2 in /opt/conda/lib/python3.4/site-packages (from pandas->pandasql)\n",
      "Requirement already up-to-date: pytz>=2011k in /opt/conda/lib/python3.4/site-packages (from pandas->pandasql)\n",
      "Requirement already up-to-date: six>=1.5 in /opt/conda/lib/python3.4/site-packages (from python-dateutil>=2->pandas->pandasql)\n"
     ]
    }
   ],
   "source": [
    "! pip install -U pandas\n",
    "! pip install -U pandasql"
   ]
  },
  {
   "cell_type": "code",
   "execution_count": 1,
   "metadata": {
    "collapsed": true
   },
   "outputs": [],
   "source": [
    "from pandasql import sqldf, load_meat, load_births\n",
    "\n",
    "# load built-in dataset\n",
    "\n",
    "meat = load_meat()\n",
    "births = load_births()"
   ]
  },
  {
   "cell_type": "markdown",
   "metadata": {},
   "source": [
    "## Meat dataset"
   ]
  },
  {
   "cell_type": "code",
   "execution_count": 7,
   "metadata": {
    "collapsed": false
   },
   "outputs": [
    {
     "name": "stdout",
     "output_type": "stream",
     "text": [
      "<class 'pandas.core.frame.DataFrame'>\n",
      "RangeIndex: 827 entries, 0 to 826\n",
      "Data columns (total 8 columns):\n",
      "date               827 non-null datetime64[ns]\n",
      "beef               827 non-null float64\n",
      "veal               827 non-null float64\n",
      "pork               827 non-null float64\n",
      "lamb_and_mutton    827 non-null float64\n",
      "broilers           635 non-null float64\n",
      "other_chicken      143 non-null float64\n",
      "turkey             635 non-null float64\n",
      "dtypes: datetime64[ns](1), float64(7)\n",
      "memory usage: 51.8 KB\n"
     ]
    }
   ],
   "source": [
    "meat.info()"
   ]
  },
  {
   "cell_type": "code",
   "execution_count": 8,
   "metadata": {
    "collapsed": false
   },
   "outputs": [
    {
     "data": {
      "text/html": [
       "<div>\n",
       "<table border=\"1\" class=\"dataframe\">\n",
       "  <thead>\n",
       "    <tr style=\"text-align: right;\">\n",
       "      <th></th>\n",
       "      <th>date</th>\n",
       "      <th>beef</th>\n",
       "      <th>veal</th>\n",
       "      <th>pork</th>\n",
       "      <th>lamb_and_mutton</th>\n",
       "      <th>broilers</th>\n",
       "      <th>other_chicken</th>\n",
       "      <th>turkey</th>\n",
       "    </tr>\n",
       "  </thead>\n",
       "  <tbody>\n",
       "    <tr>\n",
       "      <th>0</th>\n",
       "      <td>1944-01-01</td>\n",
       "      <td>751.0</td>\n",
       "      <td>85.0</td>\n",
       "      <td>1280.0</td>\n",
       "      <td>89.0</td>\n",
       "      <td>NaN</td>\n",
       "      <td>NaN</td>\n",
       "      <td>NaN</td>\n",
       "    </tr>\n",
       "    <tr>\n",
       "      <th>1</th>\n",
       "      <td>1944-02-01</td>\n",
       "      <td>713.0</td>\n",
       "      <td>77.0</td>\n",
       "      <td>1169.0</td>\n",
       "      <td>72.0</td>\n",
       "      <td>NaN</td>\n",
       "      <td>NaN</td>\n",
       "      <td>NaN</td>\n",
       "    </tr>\n",
       "    <tr>\n",
       "      <th>2</th>\n",
       "      <td>1944-03-01</td>\n",
       "      <td>741.0</td>\n",
       "      <td>90.0</td>\n",
       "      <td>1128.0</td>\n",
       "      <td>75.0</td>\n",
       "      <td>NaN</td>\n",
       "      <td>NaN</td>\n",
       "      <td>NaN</td>\n",
       "    </tr>\n",
       "    <tr>\n",
       "      <th>3</th>\n",
       "      <td>1944-04-01</td>\n",
       "      <td>650.0</td>\n",
       "      <td>89.0</td>\n",
       "      <td>978.0</td>\n",
       "      <td>66.0</td>\n",
       "      <td>NaN</td>\n",
       "      <td>NaN</td>\n",
       "      <td>NaN</td>\n",
       "    </tr>\n",
       "    <tr>\n",
       "      <th>4</th>\n",
       "      <td>1944-05-01</td>\n",
       "      <td>681.0</td>\n",
       "      <td>106.0</td>\n",
       "      <td>1029.0</td>\n",
       "      <td>78.0</td>\n",
       "      <td>NaN</td>\n",
       "      <td>NaN</td>\n",
       "      <td>NaN</td>\n",
       "    </tr>\n",
       "  </tbody>\n",
       "</table>\n",
       "</div>"
      ],
      "text/plain": [
       "        date   beef   veal    pork  lamb_and_mutton  broilers  other_chicken  \\\n",
       "0 1944-01-01  751.0   85.0  1280.0             89.0       NaN            NaN   \n",
       "1 1944-02-01  713.0   77.0  1169.0             72.0       NaN            NaN   \n",
       "2 1944-03-01  741.0   90.0  1128.0             75.0       NaN            NaN   \n",
       "3 1944-04-01  650.0   89.0   978.0             66.0       NaN            NaN   \n",
       "4 1944-05-01  681.0  106.0  1029.0             78.0       NaN            NaN   \n",
       "\n",
       "   turkey  \n",
       "0     NaN  \n",
       "1     NaN  \n",
       "2     NaN  \n",
       "3     NaN  \n",
       "4     NaN  "
      ]
     },
     "execution_count": 8,
     "metadata": {},
     "output_type": "execute_result"
    }
   ],
   "source": [
    "meat.head()"
   ]
  },
  {
   "cell_type": "markdown",
   "metadata": {},
   "source": [
    "## Birth dataset"
   ]
  },
  {
   "cell_type": "code",
   "execution_count": 9,
   "metadata": {
    "collapsed": false
   },
   "outputs": [
    {
     "name": "stdout",
     "output_type": "stream",
     "text": [
      "<class 'pandas.core.frame.DataFrame'>\n",
      "RangeIndex: 408 entries, 0 to 407\n",
      "Data columns (total 2 columns):\n",
      "date      408 non-null datetime64[ns]\n",
      "births    408 non-null int64\n",
      "dtypes: datetime64[ns](1), int64(1)\n",
      "memory usage: 6.5 KB\n"
     ]
    }
   ],
   "source": [
    "births.info()"
   ]
  },
  {
   "cell_type": "code",
   "execution_count": 10,
   "metadata": {
    "collapsed": false
   },
   "outputs": [
    {
     "data": {
      "text/html": [
       "<div>\n",
       "<table border=\"1\" class=\"dataframe\">\n",
       "  <thead>\n",
       "    <tr style=\"text-align: right;\">\n",
       "      <th></th>\n",
       "      <th>date</th>\n",
       "      <th>births</th>\n",
       "    </tr>\n",
       "  </thead>\n",
       "  <tbody>\n",
       "    <tr>\n",
       "      <th>0</th>\n",
       "      <td>1975-01-01</td>\n",
       "      <td>265775</td>\n",
       "    </tr>\n",
       "    <tr>\n",
       "      <th>1</th>\n",
       "      <td>1975-02-01</td>\n",
       "      <td>241045</td>\n",
       "    </tr>\n",
       "    <tr>\n",
       "      <th>2</th>\n",
       "      <td>1975-03-01</td>\n",
       "      <td>268849</td>\n",
       "    </tr>\n",
       "    <tr>\n",
       "      <th>3</th>\n",
       "      <td>1975-04-01</td>\n",
       "      <td>247455</td>\n",
       "    </tr>\n",
       "    <tr>\n",
       "      <th>4</th>\n",
       "      <td>1975-05-01</td>\n",
       "      <td>254545</td>\n",
       "    </tr>\n",
       "  </tbody>\n",
       "</table>\n",
       "</div>"
      ],
      "text/plain": [
       "        date  births\n",
       "0 1975-01-01  265775\n",
       "1 1975-02-01  241045\n",
       "2 1975-03-01  268849\n",
       "3 1975-04-01  247455\n",
       "4 1975-05-01  254545"
      ]
     },
     "execution_count": 10,
     "metadata": {},
     "output_type": "execute_result"
    }
   ],
   "source": [
    "births.head()"
   ]
  },
  {
   "cell_type": "markdown",
   "metadata": {},
   "source": [
    "## An odd graph\n",
    "\n",
    "Let's make a graph to visualize the data. "
   ]
  },
  {
   "cell_type": "code",
   "execution_count": 16,
   "metadata": {
    "collapsed": false
   },
   "outputs": [],
   "source": [
    "%matplotlib inline\n",
    "import matplotlib.pyplot as plt\n",
    "\n",
    "from pandasql import *\n",
    "import pandas as pd\n"
   ]
  },
  {
   "cell_type": "code",
   "execution_count": 13,
   "metadata": {
    "collapsed": false
   },
   "outputs": [],
   "source": [
    "pysqldf = lambda q: sqldf(q, globals())\n",
    "\n",
    "q = \"\"\"\n",
    "SELECT \n",
    "   m.date,\n",
    "   m.beef,\n",
    "   b.births\n",
    "FROM\n",
    "  meat m\n",
    "LEFT JOIN\n",
    "  births b ON m.date = b.date\n",
    "WHERE\n",
    "  m.date > '1974-12-31';\n",
    "\"\"\"\n",
    "\n",
    "df = pysqldf(q)"
   ]
  },
  {
   "cell_type": "code",
   "execution_count": 17,
   "metadata": {
    "collapsed": false
   },
   "outputs": [
    {
     "name": "stderr",
     "output_type": "stream",
     "text": [
      "/opt/conda/lib/python3.4/site-packages/IPython/kernel/__main__.py:5: FutureWarning: pd.rolling_mean is deprecated for Series and will be removed in a future version, replace with \n",
      "\tSeries.rolling(center=False,window=12).mean()\n",
      "/opt/conda/lib/python3.4/site-packages/IPython/kernel/__main__.py:10: FutureWarning: pd.rolling_mean is deprecated for Series and will be removed in a future version, replace with \n",
      "\tSeries.rolling(center=False,window=12).mean()\n"
     ]
    },
    {
     "data": {
      "image/png": "[encoded data removed]",
      "text/plain": [
       "<matplotlib.figure.Figure at 0x7fc1211907b8>"
      ]
     },
     "metadata": {},
     "output_type": "display_data"
    }
   ],
   "source": [
    "df.births.fillna(method='backfill')\n",
    "\n",
    "fig = plt.figure()\n",
    "ax1 = fig.add_subplot(111)\n",
    "ax1.plot(pd.rolling_mean(df['beef'], 12), color='b')\n",
    "ax1.set_xlabel('month since 1975')\n",
    "ax1.set_ylabel('cattle slaughtered', color='b')\n",
    "\n",
    "ax2 = ax1.twinx()\n",
    "ax2.plot(pd.rolling_mean(df['births'], 12), color='r')\n",
    "ax2.set_ylabel('babies born', color='r')\n",
    "plt.title(\"Beef Consumption and the Birth Rate\")\n",
    "plt.show()\n"
   ]
  },
  {
   "cell_type": "markdown",
   "metadata": {
    "collapsed": true
   },
   "source": [
    "## Births per year"
   ]
  },
  {
   "cell_type": "code",
   "execution_count": 21,
   "metadata": {
    "collapsed": false
   },
   "outputs": [
    {
     "data": {
      "text/html": [
       "<div>\n",
       "<table border=\"1\" class=\"dataframe\">\n",
       "  <thead>\n",
       "    <tr style=\"text-align: right;\">\n",
       "      <th></th>\n",
       "      <th>date</th>\n",
       "      <th>births</th>\n",
       "    </tr>\n",
       "  </thead>\n",
       "  <tbody>\n",
       "    <tr>\n",
       "      <th>0</th>\n",
       "      <td>1975</td>\n",
       "      <td>3136965</td>\n",
       "    </tr>\n",
       "    <tr>\n",
       "      <th>1</th>\n",
       "      <td>1976</td>\n",
       "      <td>6304156</td>\n",
       "    </tr>\n",
       "    <tr>\n",
       "      <th>2</th>\n",
       "      <td>1979</td>\n",
       "      <td>3333279</td>\n",
       "    </tr>\n",
       "    <tr>\n",
       "      <th>3</th>\n",
       "      <td>1982</td>\n",
       "      <td>3612258</td>\n",
       "    </tr>\n",
       "    <tr>\n",
       "      <th>4</th>\n",
       "      <td>1983</td>\n",
       "      <td>7333238</td>\n",
       "    </tr>\n",
       "  </tbody>\n",
       "</table>\n",
       "</div>"
      ],
      "text/plain": [
       "   date   births\n",
       "0  1975  3136965\n",
       "1  1976  6304156\n",
       "2  1979  3333279\n",
       "3  1982  3612258\n",
       "4  1983  7333238"
      ]
     },
     "execution_count": 21,
     "metadata": {},
     "output_type": "execute_result"
    }
   ],
   "source": [
    "q = \"\"\"\n",
    "    SELECT\n",
    "        strftime(\"%Y\", date) as date\n",
    "        , SUM(births) as births\n",
    "    FROM births\n",
    "    GROUP BY 1\n",
    "    ORDER BY 1;\n",
    "            \"\"\"\n",
    "\n",
    "bpy_df = sqldf(q, locals())\n",
    "bpy_df.head()"
   ]
  },
  {
   "cell_type": "markdown",
   "metadata": {},
   "source": [
    "## lovals() vs globals()"
   ]
  },
  {
   "cell_type": "code",
   "execution_count": 22,
   "metadata": {
    "collapsed": false
   },
   "outputs": [
    {
     "data": {
      "text/html": [
       "<div>\n",
       "<table border=\"1\" class=\"dataframe\">\n",
       "  <thead>\n",
       "    <tr style=\"text-align: right;\">\n",
       "      <th></th>\n",
       "      <th>date</th>\n",
       "      <th>births</th>\n",
       "    </tr>\n",
       "  </thead>\n",
       "  <tbody>\n",
       "    <tr>\n",
       "      <th>0</th>\n",
       "      <td>1975-01-01 00:00:00.000000</td>\n",
       "      <td>265775</td>\n",
       "    </tr>\n",
       "    <tr>\n",
       "      <th>1</th>\n",
       "      <td>1975-02-01 00:00:00.000000</td>\n",
       "      <td>241045</td>\n",
       "    </tr>\n",
       "    <tr>\n",
       "      <th>2</th>\n",
       "      <td>1975-03-01 00:00:00.000000</td>\n",
       "      <td>268849</td>\n",
       "    </tr>\n",
       "    <tr>\n",
       "      <th>3</th>\n",
       "      <td>1975-04-01 00:00:00.000000</td>\n",
       "      <td>247455</td>\n",
       "    </tr>\n",
       "    <tr>\n",
       "      <th>4</th>\n",
       "      <td>1975-05-01 00:00:00.000000</td>\n",
       "      <td>254545</td>\n",
       "    </tr>\n",
       "  </tbody>\n",
       "</table>\n",
       "</div>"
      ],
      "text/plain": [
       "                         date  births\n",
       "0  1975-01-01 00:00:00.000000  265775\n",
       "1  1975-02-01 00:00:00.000000  241045\n",
       "2  1975-03-01 00:00:00.000000  268849\n",
       "3  1975-04-01 00:00:00.000000  247455\n",
       "4  1975-05-01 00:00:00.000000  254545"
      ]
     },
     "execution_count": 22,
     "metadata": {},
     "output_type": "execute_result"
    }
   ],
   "source": [
    "def pysqldf(q):\n",
    "    return sqldf(q, globals())\n",
    "\n",
    "q = \"\"\"\n",
    "    SELECT\n",
    "        *\n",
    "    FROM\n",
    "        births\n",
    "    LIMIT 10;\"\"\"\n",
    "\n",
    "df = pysqldf(q)\n",
    "df.head()"
   ]
  },
  {
   "cell_type": "code",
   "execution_count": null,
   "metadata": {
    "collapsed": true
   },
   "outputs": [],
   "source": []
  }
 ],
 "metadata": {
  "kernelspec": {
   "display_name": "Python 3",
   "language": "python",
   "name": "python3"
  },
  "language_info": {
   "codemirror_mode": {
    "name": "ipython",
    "version": 3
   },
   "file_extension": ".py",
   "mimetype": "text/x-python",
   "name": "python",
   "nbconvert_exporter": "python",
   "pygments_lexer": "ipython3",
   "version": "3.4.5"
  }
 },
 "nbformat": 4,
 "nbformat_minor": 0
}
