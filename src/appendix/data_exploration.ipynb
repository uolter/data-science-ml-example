{
 "cells": [
  {
   "cell_type": "markdown",
   "metadata": {},
   "source": [
    "# Data exploration"
   ]
  },
  {
   "cell_type": "code",
   "execution_count": 1,
   "metadata": {
    "collapsed": true
   },
   "outputs": [],
   "source": [
    "import os\n",
    "import zipfile\n",
    "import requests\n",
    "\n",
    "def download_data(url, name, path='data'):\n",
    "    if not os.path.exists(path):\n",
    "        os.mkdir(path)\n",
    "\n",
    "    response = requests.get(url)\n",
    "    with open(os.path.join(path, name), 'wb') as f:\n",
    "        f.write(response.content)\n",
    "\n",
    "    z = zipfile.ZipFile(os.path.join(path, 'vehicles.zip'))\n",
    "    z.extractall(path)\n",
    "\n",
    "VEHICLES = 'http://bit.ly/ddl-cars'\n",
    "\n",
    "download_data(VEHICLES, 'vehicles.zip')"
   ]
  },
  {
   "cell_type": "code",
   "execution_count": 2,
   "metadata": {
    "collapsed": false
   },
   "outputs": [
    {
     "name": "stderr",
     "output_type": "stream",
     "text": [
      "/opt/conda/lib/python3.4/site-packages/IPython/core/interactiveshell.py:2871: DtypeWarning: Columns (70,71,72,73,74,76,79) have mixed types. Specify dtype option on import or set low_memory=False.\n",
      "  interactivity=interactivity, compiler=compiler, result=result)\n"
     ]
    }
   ],
   "source": [
    "# load it into a pandas data frame.\n",
    "import pandas as pd\n",
    "path = 'data'\n",
    "vehicles = pd.read_csv(os.path.join(path, 'vehicles.csv'))"
   ]
  },
  {
   "cell_type": "code",
   "execution_count": 3,
   "metadata": {
    "collapsed": false
   },
   "outputs": [
    {
     "data": {
      "text/html": [
       "<div>\n",
       "<table border=\"1\" class=\"dataframe\">\n",
       "  <thead>\n",
       "    <tr style=\"text-align: right;\">\n",
       "      <th></th>\n",
       "      <th>barrels08</th>\n",
       "      <th>barrelsA08</th>\n",
       "      <th>charge120</th>\n",
       "      <th>charge240</th>\n",
       "      <th>city08</th>\n",
       "      <th>city08U</th>\n",
       "      <th>cityA08</th>\n",
       "      <th>cityA08U</th>\n",
       "      <th>cityCD</th>\n",
       "      <th>cityE</th>\n",
       "      <th>...</th>\n",
       "      <th>UCity</th>\n",
       "      <th>UCityA</th>\n",
       "      <th>UHighway</th>\n",
       "      <th>UHighwayA</th>\n",
       "      <th>year</th>\n",
       "      <th>youSaveSpend</th>\n",
       "      <th>charge240b</th>\n",
       "      <th>phevCity</th>\n",
       "      <th>phevHwy</th>\n",
       "      <th>phevComb</th>\n",
       "    </tr>\n",
       "  </thead>\n",
       "  <tbody>\n",
       "    <tr>\n",
       "      <th>count</th>\n",
       "      <td>37843.000000</td>\n",
       "      <td>37843.000000</td>\n",
       "      <td>37843.0</td>\n",
       "      <td>37843.000000</td>\n",
       "      <td>37843.000000</td>\n",
       "      <td>37843.000000</td>\n",
       "      <td>37843.000000</td>\n",
       "      <td>37843.000000</td>\n",
       "      <td>37843.000000</td>\n",
       "      <td>37843.000000</td>\n",
       "      <td>...</td>\n",
       "      <td>37843.000000</td>\n",
       "      <td>37843.000000</td>\n",
       "      <td>37843.000000</td>\n",
       "      <td>37843.000000</td>\n",
       "      <td>37843.000000</td>\n",
       "      <td>37843.000000</td>\n",
       "      <td>37843.000000</td>\n",
       "      <td>37843.000000</td>\n",
       "      <td>37843.000000</td>\n",
       "      <td>37843.000000</td>\n",
       "    </tr>\n",
       "    <tr>\n",
       "      <th>mean</th>\n",
       "      <td>17.532506</td>\n",
       "      <td>0.216169</td>\n",
       "      <td>0.0</td>\n",
       "      <td>0.023531</td>\n",
       "      <td>17.941389</td>\n",
       "      <td>4.042737</td>\n",
       "      <td>0.520149</td>\n",
       "      <td>0.327163</td>\n",
       "      <td>0.000406</td>\n",
       "      <td>0.184790</td>\n",
       "      <td>...</td>\n",
       "      <td>22.587229</td>\n",
       "      <td>0.652380</td>\n",
       "      <td>33.619221</td>\n",
       "      <td>0.933845</td>\n",
       "      <td>2000.064398</td>\n",
       "      <td>-2658.999022</td>\n",
       "      <td>0.004360</td>\n",
       "      <td>0.069313</td>\n",
       "      <td>0.068203</td>\n",
       "      <td>0.068573</td>\n",
       "    </tr>\n",
       "    <tr>\n",
       "      <th>std</th>\n",
       "      <td>4.575950</td>\n",
       "      <td>1.141527</td>\n",
       "      <td>0.0</td>\n",
       "      <td>0.427647</td>\n",
       "      <td>6.660360</td>\n",
       "      <td>9.645820</td>\n",
       "      <td>3.837874</td>\n",
       "      <td>3.542596</td>\n",
       "      <td>0.039918</td>\n",
       "      <td>2.904558</td>\n",
       "      <td>...</td>\n",
       "      <td>9.350163</td>\n",
       "      <td>5.284547</td>\n",
       "      <td>10.048326</td>\n",
       "      <td>6.059456</td>\n",
       "      <td>10.390588</td>\n",
       "      <td>2553.098329</td>\n",
       "      <td>0.142776</td>\n",
       "      <td>1.966806</td>\n",
       "      <td>1.871986</td>\n",
       "      <td>1.913647</td>\n",
       "    </tr>\n",
       "    <tr>\n",
       "      <th>min</th>\n",
       "      <td>0.060000</td>\n",
       "      <td>0.000000</td>\n",
       "      <td>0.0</td>\n",
       "      <td>0.000000</td>\n",
       "      <td>6.000000</td>\n",
       "      <td>0.000000</td>\n",
       "      <td>0.000000</td>\n",
       "      <td>0.000000</td>\n",
       "      <td>0.000000</td>\n",
       "      <td>0.000000</td>\n",
       "      <td>...</td>\n",
       "      <td>0.000000</td>\n",
       "      <td>0.000000</td>\n",
       "      <td>0.000000</td>\n",
       "      <td>0.000000</td>\n",
       "      <td>1984.000000</td>\n",
       "      <td>-22250.000000</td>\n",
       "      <td>0.000000</td>\n",
       "      <td>0.000000</td>\n",
       "      <td>0.000000</td>\n",
       "      <td>0.000000</td>\n",
       "    </tr>\n",
       "    <tr>\n",
       "      <th>25%</th>\n",
       "      <td>14.330870</td>\n",
       "      <td>0.000000</td>\n",
       "      <td>0.0</td>\n",
       "      <td>0.000000</td>\n",
       "      <td>15.000000</td>\n",
       "      <td>0.000000</td>\n",
       "      <td>0.000000</td>\n",
       "      <td>0.000000</td>\n",
       "      <td>0.000000</td>\n",
       "      <td>0.000000</td>\n",
       "      <td>...</td>\n",
       "      <td>18.000000</td>\n",
       "      <td>0.000000</td>\n",
       "      <td>27.100000</td>\n",
       "      <td>0.000000</td>\n",
       "      <td>1990.000000</td>\n",
       "      <td>-4250.000000</td>\n",
       "      <td>0.000000</td>\n",
       "      <td>0.000000</td>\n",
       "      <td>0.000000</td>\n",
       "      <td>0.000000</td>\n",
       "    </tr>\n",
       "    <tr>\n",
       "      <th>50%</th>\n",
       "      <td>17.347895</td>\n",
       "      <td>0.000000</td>\n",
       "      <td>0.0</td>\n",
       "      <td>0.000000</td>\n",
       "      <td>17.000000</td>\n",
       "      <td>0.000000</td>\n",
       "      <td>0.000000</td>\n",
       "      <td>0.000000</td>\n",
       "      <td>0.000000</td>\n",
       "      <td>0.000000</td>\n",
       "      <td>...</td>\n",
       "      <td>21.000000</td>\n",
       "      <td>0.000000</td>\n",
       "      <td>33.000000</td>\n",
       "      <td>0.000000</td>\n",
       "      <td>2001.000000</td>\n",
       "      <td>-2500.000000</td>\n",
       "      <td>0.000000</td>\n",
       "      <td>0.000000</td>\n",
       "      <td>0.000000</td>\n",
       "      <td>0.000000</td>\n",
       "    </tr>\n",
       "    <tr>\n",
       "      <th>75%</th>\n",
       "      <td>20.600625</td>\n",
       "      <td>0.000000</td>\n",
       "      <td>0.0</td>\n",
       "      <td>0.000000</td>\n",
       "      <td>20.000000</td>\n",
       "      <td>0.000000</td>\n",
       "      <td>0.000000</td>\n",
       "      <td>0.000000</td>\n",
       "      <td>0.000000</td>\n",
       "      <td>0.000000</td>\n",
       "      <td>...</td>\n",
       "      <td>25.139300</td>\n",
       "      <td>0.000000</td>\n",
       "      <td>38.109600</td>\n",
       "      <td>0.000000</td>\n",
       "      <td>2009.000000</td>\n",
       "      <td>-750.000000</td>\n",
       "      <td>0.000000</td>\n",
       "      <td>0.000000</td>\n",
       "      <td>0.000000</td>\n",
       "      <td>0.000000</td>\n",
       "    </tr>\n",
       "    <tr>\n",
       "      <th>max</th>\n",
       "      <td>47.087143</td>\n",
       "      <td>18.311667</td>\n",
       "      <td>0.0</td>\n",
       "      <td>12.000000</td>\n",
       "      <td>138.000000</td>\n",
       "      <td>138.304000</td>\n",
       "      <td>127.000000</td>\n",
       "      <td>127.093000</td>\n",
       "      <td>5.350000</td>\n",
       "      <td>122.000000</td>\n",
       "      <td>...</td>\n",
       "      <td>197.577100</td>\n",
       "      <td>181.560900</td>\n",
       "      <td>159.100000</td>\n",
       "      <td>152.187800</td>\n",
       "      <td>2017.000000</td>\n",
       "      <td>4000.000000</td>\n",
       "      <td>7.000000</td>\n",
       "      <td>97.000000</td>\n",
       "      <td>79.000000</td>\n",
       "      <td>88.000000</td>\n",
       "    </tr>\n",
       "  </tbody>\n",
       "</table>\n",
       "<p>8 rows × 59 columns</p>\n",
       "</div>"
      ],
      "text/plain": [
       "          barrels08    barrelsA08  charge120     charge240        city08  \\\n",
       "count  37843.000000  37843.000000    37843.0  37843.000000  37843.000000   \n",
       "mean      17.532506      0.216169        0.0      0.023531     17.941389   \n",
       "std        4.575950      1.141527        0.0      0.427647      6.660360   \n",
       "min        0.060000      0.000000        0.0      0.000000      6.000000   \n",
       "25%       14.330870      0.000000        0.0      0.000000     15.000000   \n",
       "50%       17.347895      0.000000        0.0      0.000000     17.000000   \n",
       "75%       20.600625      0.000000        0.0      0.000000     20.000000   \n",
       "max       47.087143     18.311667        0.0     12.000000    138.000000   \n",
       "\n",
       "            city08U       cityA08      cityA08U        cityCD         cityE  \\\n",
       "count  37843.000000  37843.000000  37843.000000  37843.000000  37843.000000   \n",
       "mean       4.042737      0.520149      0.327163      0.000406      0.184790   \n",
       "std        9.645820      3.837874      3.542596      0.039918      2.904558   \n",
       "min        0.000000      0.000000      0.000000      0.000000      0.000000   \n",
       "25%        0.000000      0.000000      0.000000      0.000000      0.000000   \n",
       "50%        0.000000      0.000000      0.000000      0.000000      0.000000   \n",
       "75%        0.000000      0.000000      0.000000      0.000000      0.000000   \n",
       "max      138.304000    127.000000    127.093000      5.350000    122.000000   \n",
       "\n",
       "           ...              UCity        UCityA      UHighway     UHighwayA  \\\n",
       "count      ...       37843.000000  37843.000000  37843.000000  37843.000000   \n",
       "mean       ...          22.587229      0.652380     33.619221      0.933845   \n",
       "std        ...           9.350163      5.284547     10.048326      6.059456   \n",
       "min        ...           0.000000      0.000000      0.000000      0.000000   \n",
       "25%        ...          18.000000      0.000000     27.100000      0.000000   \n",
       "50%        ...          21.000000      0.000000     33.000000      0.000000   \n",
       "75%        ...          25.139300      0.000000     38.109600      0.000000   \n",
       "max        ...         197.577100    181.560900    159.100000    152.187800   \n",
       "\n",
       "               year  youSaveSpend    charge240b      phevCity       phevHwy  \\\n",
       "count  37843.000000  37843.000000  37843.000000  37843.000000  37843.000000   \n",
       "mean    2000.064398  -2658.999022      0.004360      0.069313      0.068203   \n",
       "std       10.390588   2553.098329      0.142776      1.966806      1.871986   \n",
       "min     1984.000000 -22250.000000      0.000000      0.000000      0.000000   \n",
       "25%     1990.000000  -4250.000000      0.000000      0.000000      0.000000   \n",
       "50%     2001.000000  -2500.000000      0.000000      0.000000      0.000000   \n",
       "75%     2009.000000   -750.000000      0.000000      0.000000      0.000000   \n",
       "max     2017.000000   4000.000000      7.000000     97.000000     79.000000   \n",
       "\n",
       "           phevComb  \n",
       "count  37843.000000  \n",
       "mean       0.068573  \n",
       "std        1.913647  \n",
       "min        0.000000  \n",
       "25%        0.000000  \n",
       "50%        0.000000  \n",
       "75%        0.000000  \n",
       "max       88.000000  \n",
       "\n",
       "[8 rows x 59 columns]"
      ]
     },
     "execution_count": 3,
     "metadata": {},
     "output_type": "execute_result"
    }
   ],
   "source": [
    "vehicles.describe()"
   ]
  },
  {
   "cell_type": "markdown",
   "metadata": {},
   "source": [
    "Clean it up by dropping columns we don't need, removing vehicles that are coming out in the future, removing any duplicate records, and then sorting the data by make, model, and year."
   ]
  },
  {
   "cell_type": "code",
   "execution_count": 4,
   "metadata": {
    "collapsed": false
   },
   "outputs": [
    {
     "name": "stderr",
     "output_type": "stream",
     "text": [
      "/opt/conda/lib/python3.4/site-packages/IPython/kernel/__main__.py:5: FutureWarning: sort(columns=....) is deprecated, use sort_values(by=.....)\n"
     ]
    },
    {
     "data": {
      "text/html": [
       "<div>\n",
       "<table border=\"1\" class=\"dataframe\">\n",
       "  <thead>\n",
       "    <tr style=\"text-align: right;\">\n",
       "      <th></th>\n",
       "      <th>make</th>\n",
       "      <th>model</th>\n",
       "      <th>year</th>\n",
       "      <th>displ</th>\n",
       "      <th>cylinders</th>\n",
       "      <th>trany</th>\n",
       "      <th>drive</th>\n",
       "      <th>VClass</th>\n",
       "      <th>fuelType</th>\n",
       "      <th>barrels08</th>\n",
       "      <th>city08</th>\n",
       "      <th>highway08</th>\n",
       "      <th>comb08</th>\n",
       "      <th>co2TailpipeGpm</th>\n",
       "      <th>fuelCost08</th>\n",
       "    </tr>\n",
       "  </thead>\n",
       "  <tbody>\n",
       "    <tr>\n",
       "      <th>19316</th>\n",
       "      <td>AM General</td>\n",
       "      <td>DJ Po Vehicle 2WD</td>\n",
       "      <td>1984</td>\n",
       "      <td>2.5</td>\n",
       "      <td>4.0</td>\n",
       "      <td>Automatic 3-spd</td>\n",
       "      <td>2-Wheel Drive</td>\n",
       "      <td>Special Purpose Vehicle 2WD</td>\n",
       "      <td>Regular</td>\n",
       "      <td>19.388824</td>\n",
       "      <td>18</td>\n",
       "      <td>17</td>\n",
       "      <td>17</td>\n",
       "      <td>522.764706</td>\n",
       "      <td>1950</td>\n",
       "    </tr>\n",
       "    <tr>\n",
       "      <th>19314</th>\n",
       "      <td>AM General</td>\n",
       "      <td>FJ8c Post Office</td>\n",
       "      <td>1984</td>\n",
       "      <td>4.2</td>\n",
       "      <td>6.0</td>\n",
       "      <td>Automatic 3-spd</td>\n",
       "      <td>2-Wheel Drive</td>\n",
       "      <td>Special Purpose Vehicle 2WD</td>\n",
       "      <td>Regular</td>\n",
       "      <td>25.354615</td>\n",
       "      <td>13</td>\n",
       "      <td>13</td>\n",
       "      <td>13</td>\n",
       "      <td>683.615385</td>\n",
       "      <td>2550</td>\n",
       "    </tr>\n",
       "    <tr>\n",
       "      <th>358</th>\n",
       "      <td>AM General</td>\n",
       "      <td>Post Office DJ5 2WD</td>\n",
       "      <td>1985</td>\n",
       "      <td>2.5</td>\n",
       "      <td>4.0</td>\n",
       "      <td>Automatic 3-spd</td>\n",
       "      <td>Rear-Wheel Drive</td>\n",
       "      <td>Special Purpose Vehicle 2WD</td>\n",
       "      <td>Regular</td>\n",
       "      <td>20.600625</td>\n",
       "      <td>16</td>\n",
       "      <td>17</td>\n",
       "      <td>16</td>\n",
       "      <td>555.437500</td>\n",
       "      <td>2100</td>\n",
       "    </tr>\n",
       "    <tr>\n",
       "      <th>369</th>\n",
       "      <td>AM General</td>\n",
       "      <td>Post Office DJ8 2WD</td>\n",
       "      <td>1985</td>\n",
       "      <td>4.2</td>\n",
       "      <td>6.0</td>\n",
       "      <td>Automatic 3-spd</td>\n",
       "      <td>Rear-Wheel Drive</td>\n",
       "      <td>Special Purpose Vehicle 2WD</td>\n",
       "      <td>Regular</td>\n",
       "      <td>25.354615</td>\n",
       "      <td>13</td>\n",
       "      <td>13</td>\n",
       "      <td>13</td>\n",
       "      <td>683.615385</td>\n",
       "      <td>2550</td>\n",
       "    </tr>\n",
       "    <tr>\n",
       "      <th>25797</th>\n",
       "      <td>ASC Incorporated</td>\n",
       "      <td>GNX</td>\n",
       "      <td>1987</td>\n",
       "      <td>3.8</td>\n",
       "      <td>6.0</td>\n",
       "      <td>Automatic 4-spd</td>\n",
       "      <td>Rear-Wheel Drive</td>\n",
       "      <td>Midsize Cars</td>\n",
       "      <td>Premium</td>\n",
       "      <td>20.600625</td>\n",
       "      <td>14</td>\n",
       "      <td>21</td>\n",
       "      <td>16</td>\n",
       "      <td>555.437500</td>\n",
       "      <td>2550</td>\n",
       "    </tr>\n",
       "  </tbody>\n",
       "</table>\n",
       "</div>"
      ],
      "text/plain": [
       "                   make                model  year  displ  cylinders  \\\n",
       "19316        AM General    DJ Po Vehicle 2WD  1984    2.5        4.0   \n",
       "19314        AM General     FJ8c Post Office  1984    4.2        6.0   \n",
       "358          AM General  Post Office DJ5 2WD  1985    2.5        4.0   \n",
       "369          AM General  Post Office DJ8 2WD  1985    4.2        6.0   \n",
       "25797  ASC Incorporated                  GNX  1987    3.8        6.0   \n",
       "\n",
       "                 trany             drive                       VClass  \\\n",
       "19316  Automatic 3-spd     2-Wheel Drive  Special Purpose Vehicle 2WD   \n",
       "19314  Automatic 3-spd     2-Wheel Drive  Special Purpose Vehicle 2WD   \n",
       "358    Automatic 3-spd  Rear-Wheel Drive  Special Purpose Vehicle 2WD   \n",
       "369    Automatic 3-spd  Rear-Wheel Drive  Special Purpose Vehicle 2WD   \n",
       "25797  Automatic 4-spd  Rear-Wheel Drive                 Midsize Cars   \n",
       "\n",
       "      fuelType  barrels08  city08  highway08  comb08  co2TailpipeGpm  \\\n",
       "19316  Regular  19.388824      18         17      17      522.764706   \n",
       "19314  Regular  25.354615      13         13      13      683.615385   \n",
       "358    Regular  20.600625      16         17      16      555.437500   \n",
       "369    Regular  25.354615      13         13      13      683.615385   \n",
       "25797  Premium  20.600625      14         21      16      555.437500   \n",
       "\n",
       "       fuelCost08  \n",
       "19316        1950  \n",
       "19314        2550  \n",
       "358          2100  \n",
       "369          2550  \n",
       "25797        2550  "
      ]
     },
     "execution_count": 4,
     "metadata": {},
     "output_type": "execute_result"
    }
   ],
   "source": [
    "select_columns = ['make', 'model', 'year', 'displ', 'cylinders', 'trany', 'drive', 'VClass','fuelType',\n",
    "                  'barrels08', 'city08', 'highway08', 'comb08', 'co2TailpipeGpm', 'fuelCost08']\n",
    "\n",
    "vehicles = vehicles[select_columns][vehicles.year <= 2016].drop_duplicates().dropna()\n",
    "\n",
    "vehicles = vehicles.sort(['make', 'model', 'year'])\n",
    "\n",
    "vehicles.head()"
   ]
  },
  {
   "cell_type": "markdown",
   "metadata": {},
   "source": [
    "## Identify stage\n",
    "\n",
    "**Prep Phase**. The first thing we're going to do is identify the types of information contained in our data set, which will help us get to know our data a bit better and prepare us to think about the data in different ways. After that, we will identify the **entities** in our data set so that we are aware of the different levels to which we can **aggregate** up or **drill down**."
   ]
  },
  {
   "cell_type": "markdown",
   "metadata": {},
   "source": [
    "## Types of Information\n",
    "\n",
    "There are a few distinct types of information that jump out at us just from taking a quick look at the data set.\n",
    "\n",
    "- Vehicle attributes information\n",
    "- Vehicle manufacturer information\n",
    "- Engine information\n",
    "- Fuel information (such as fuel efficiency, fuel type, and fuel cost)\n",
    "- Transmission information\n",
    "- Drive axle information\n",
    "\n"
   ]
  },
  {
   "cell_type": "markdown",
   "metadata": {
    "collapsed": true
   },
   "source": [
    "## Part 2"
   ]
  },
  {
   "cell_type": "code",
   "execution_count": 6,
   "metadata": {
    "collapsed": false
   },
   "outputs": [],
   "source": [
    "# Renaming columns:\n",
    "vehicles.columns = ['Make','Model','Year','Engine Displacement','Cylinders', 'Transmission','Drivetrain',\n",
    "                    'Vehicle Class','Fuel Type', 'Fuel Barrels/Year','City MPG','Highway MPG','Combined MPG',\n",
    "                    'CO2 Emission Grams/Mile','Fuel Cost/Year']"
   ]
  },
  {
   "cell_type": "markdown",
   "metadata": {},
   "source": [
    "## Thinking About Categorization\n",
    "\n",
    "Categorization is just a way that humans structure information.\n",
    "\n",
    "In this stage of the framework, we are going to create additional categories in 3 distinct ways:\n",
    "\n",
    "- Category Aggregations\n",
    "- Binning Continuous Variables\n",
    "- Clustering\n"
   ]
  },
  {
   "cell_type": "markdown",
   "metadata": {},
   "source": [
    "## Aggregating to Higher-Level Categories\n",
    "\n",
    "The first way we are going to create additional categories is by identifying opportunities to create higher-level categories out of the variables we already have in our data set. In order to do this, we need to get a sense of what categories currently exist in the data. We can do this by iterating through our columns and printing out the name, the number of unique values, and the data type for each."
   ]
  },
  {
   "cell_type": "code",
   "execution_count": 10,
   "metadata": {
    "collapsed": false
   },
   "outputs": [],
   "source": [
    "def unique_col_values(df):\n",
    "    \"\"\"\n",
    "      df: pandas dataframe\n",
    "    \"\"\"\n",
    "    for column in df:\n",
    "        print(\"{} | {} | {}\".format(\n",
    "                df[column].name, len(df[column].unique()), df[column].dtype\n",
    "            ))"
   ]
  },
  {
   "cell_type": "code",
   "execution_count": 16,
   "metadata": {
    "collapsed": false
   },
   "outputs": [
    {
     "name": "stdout",
     "output_type": "stream",
     "text": [
      "Make | 126 | object\n",
      "Model | 3490 | object\n",
      "Year | 33 | int64\n",
      "Engine Displacement | 65 | float64\n",
      "Cylinders | 9 | float64\n",
      "Transmission | 44 | object\n",
      "Drivetrain | 7 | object\n",
      "Vehicle Class | 34 | object\n",
      "Fuel Type | 13 | object\n",
      "Fuel Barrels/Year | 116 | float64\n",
      "City MPG | 48 | int64\n",
      "Highway MPG | 49 | int64\n",
      "Combined MPG | 46 | int64\n",
      "CO2 Emission Grams/Mile | 550 | float64\n",
      "Fuel Cost/Year | 55 | int64\n",
      "Transmission Type | 2 | object\n"
     ]
    }
   ],
   "source": [
    "unique_col_values(vehicles)"
   ]
  },
  {
   "cell_type": "markdown",
   "metadata": {},
   "source": [
    "When aggregating and summarizing data, having too many categories can be problematic. The average human is said to have the ability to hold **7 objects at a time** in their short-term working memory. Accordingly, I have noticed that once **you exceed 8-10 discrete values in a category**, it becomes increasingly difficult to get a holistic picture of how the entire data set is divided up.\n",
    "\n",
    "For example, imagine aggregating by Transmission, which has 43 discrete values in our data set. It is going to be difficult to derive insights due to the fact that any aggregated metrics are going to be distributed across more categories than you can hold in short-term memory. However, if we examine the different transmission categories with the goal of finding common features that we can group on, we would find that all 43 values fall into one of two transmission types, Automatic or Manual."
   ]
  },
  {
   "cell_type": "code",
   "execution_count": 14,
   "metadata": {
    "collapsed": false
   },
   "outputs": [
    {
     "data": {
      "text/plain": [
       "19316    Automatic 3-spd\n",
       "19314    Automatic 3-spd\n",
       "358      Automatic 3-spd\n",
       "369      Automatic 3-spd\n",
       "25797    Automatic 4-spd\n",
       "3678     Automatic 4-spd\n",
       "3680        Manual 5-spd\n",
       "3681     Automatic 4-spd\n",
       "4488     Automatic 4-spd\n",
       "4489        Manual 5-spd\n",
       "4491     Automatic 4-spd\n",
       "5372     Automatic 4-spd\n",
       "5373        Manual 5-spd\n",
       "5374     Automatic 4-spd\n",
       "1989     Automatic 4-spd\n",
       "2972     Automatic 4-spd\n",
       "2973     Automatic 4-spd\n",
       "3803     Automatic 4-spd\n",
       "3804     Automatic 4-spd\n",
       "4627     Automatic 4-spd\n",
       "Name: Transmission, dtype: object"
      ]
     },
     "execution_count": 14,
     "metadata": {},
     "output_type": "execute_result"
    }
   ],
   "source": [
    "vehicles.Transmission[:20]"
   ]
  },
  {
   "cell_type": "code",
   "execution_count": 15,
   "metadata": {
    "collapsed": true
   },
   "outputs": [],
   "source": [
    "AUTOMATIC = \"Automatic\"\n",
    "MANUAL = \"Manual\"\n",
    "\n",
    "vehicles.loc[vehicles['Transmission'].str.startswith('A'),\n",
    "             'Transmission Type'] = AUTOMATIC\n",
    "\n",
    "vehicles.loc[vehicles['Transmission'].str.startswith('M'),\n",
    "             'Transmission Type'] = MANUAL"
   ]
  },
  {
   "cell_type": "markdown",
   "metadata": {},
   "source": [
    "We can apply the same logic to the **Vehicle Class** field. We originally have 34 vehicle classes, but we can distill those down into 8 vehicle categories, which are much easier to remember."
   ]
  },
  {
   "cell_type": "code",
   "execution_count": 17,
   "metadata": {
    "collapsed": false
   },
   "outputs": [
    {
     "data": {
      "text/plain": [
       "19316    Special Purpose Vehicle 2WD\n",
       "19314    Special Purpose Vehicle 2WD\n",
       "358      Special Purpose Vehicle 2WD\n",
       "369      Special Purpose Vehicle 2WD\n",
       "25797                   Midsize Cars\n",
       "3678                 Subcompact Cars\n",
       "3680                 Subcompact Cars\n",
       "3681                 Subcompact Cars\n",
       "4488                 Subcompact Cars\n",
       "4489                 Subcompact Cars\n",
       "4491                 Subcompact Cars\n",
       "5372                 Subcompact Cars\n",
       "5373                 Subcompact Cars\n",
       "5374                 Subcompact Cars\n",
       "1989                    Compact Cars\n",
       "2972                    Compact Cars\n",
       "2973                    Compact Cars\n",
       "3803                    Compact Cars\n",
       "3804                    Compact Cars\n",
       "4627                    Compact Cars\n",
       "Name: Vehicle Class, dtype: object"
      ]
     },
     "execution_count": 17,
     "metadata": {},
     "output_type": "execute_result"
    }
   ],
   "source": [
    "vehicles['Vehicle Class'][:20]"
   ]
  },
  {
   "cell_type": "code",
   "execution_count": 18,
   "metadata": {
    "collapsed": true
   },
   "outputs": [],
   "source": [
    "small = ['Compact Cars','Subcompact Cars','Two Seaters','Minicompact Cars']\n",
    "midsize = ['Midsize Cars']\n",
    "large = ['Large Cars']\n",
    "\n",
    "vehicles.loc[vehicles['Vehicle Class'].isin(small), \n",
    "             'Vehicle Category'] = 'Small Cars'\n",
    "\n",
    "vehicles.loc[vehicles['Vehicle Class'].isin(midsize), \n",
    "             'Vehicle Category'] = 'Midsize Cars'\n",
    "\n",
    "vehicles.loc[vehicles['Vehicle Class'].isin(large), \n",
    "             'Vehicle Category'] = 'Large Cars'\n",
    "\n",
    "vehicles.loc[vehicles['Vehicle Class'].str.contains('Station'), \n",
    "             'Vehicle Category'] = 'Station Wagons'\n",
    "\n",
    "vehicles.loc[vehicles['Vehicle Class'].str.contains('Truck'), \n",
    "             'Vehicle Category'] = 'Pickup Trucks'\n",
    "\n",
    "vehicles.loc[vehicles['Vehicle Class'].str.contains('Special Purpose'), \n",
    "             'Vehicle Category'] = 'Special Purpose'\n",
    "\n",
    "vehicles.loc[vehicles['Vehicle Class'].str.contains('Sport Utility'), \n",
    "             'Vehicle Category'] = 'Sport Utility'\n",
    "\n",
    "vehicles.loc[(vehicles['Vehicle Class'].str.lower().str.contains('van')),\n",
    "             'Vehicle Category'] = 'Vans & Minivans'"
   ]
  },
  {
   "cell_type": "markdown",
   "metadata": {},
   "source": [
    "Next, let's look at the Make and Model fields, which have 126 and 3,491 unique values respectively. While I can't think of a way to get either of those down to 8-10 categories, we can create another potentially informative field by concatenating Make and the first word of the Model field together into a new Model Type field. This would allow us to, for example, categorize all Chevrolet Suburban C1500 2WD vehicles and all Chevrolet Suburban K1500 4WD vehicles as simply Chevrolet Suburbans."
   ]
  },
  {
   "cell_type": "code",
   "execution_count": 19,
   "metadata": {
    "collapsed": true
   },
   "outputs": [],
   "source": [
    "vehicles['Model Type'] = (vehicles['Make'] + \" \" +\n",
    "                          vehicles['Model'].str.split().str.get(0))"
   ]
  },
  {
   "cell_type": "markdown",
   "metadata": {},
   "source": [
    "Finally, let's look at the Fuel Type field, which has 13 unique values"
   ]
  },
  {
   "cell_type": "code",
   "execution_count": 20,
   "metadata": {
    "collapsed": false
   },
   "outputs": [
    {
     "data": {
      "text/plain": [
       "array(['Regular', 'Premium', 'Diesel', 'Premium and Electricity',\n",
       "       'Premium or E85', 'Premium Gas or Electricity', 'Gasoline or E85',\n",
       "       'Gasoline or natural gas', 'CNG', 'Regular Gas or Electricity',\n",
       "       'Midgrade', 'Regular Gas and Electricity', 'Gasoline or propane'], dtype=object)"
      ]
     },
     "execution_count": 20,
     "metadata": {},
     "output_type": "execute_result"
    }
   ],
   "source": [
    "vehicles['Fuel Type'].unique()"
   ]
  },
  {
   "cell_type": "code",
   "execution_count": 21,
   "metadata": {
    "collapsed": true
   },
   "outputs": [],
   "source": [
    "vehicles['Gas'] = 0\n",
    "vehicles['Ethanol'] = 0\n",
    "vehicles['Electric'] = 0\n",
    "vehicles['Propane'] = 0\n",
    "vehicles['Natural Gas'] = 0\n",
    "\n",
    "vehicles.loc[vehicles['Fuel Type'].str.contains(\n",
    "        'Regular|Gasoline|Midgrade|Premium|Diesel'),'Gas'] = 1\n",
    "\n",
    "vehicles.loc[vehicles['Fuel Type'].str.contains('E85'),'Ethanol'] = 1\n",
    "\n",
    "vehicles.loc[vehicles['Fuel Type'].str.contains('Electricity'),'Electric'] = 1\n",
    "\n",
    "vehicles.loc[vehicles['Fuel Type'].str.contains('propane'),'Propane'] = 1\n",
    "\n",
    "vehicles.loc[vehicles['Fuel Type'].str.contains('natural|CNG'),'Natural Gas'] = 1"
   ]
  },
  {
   "cell_type": "markdown",
   "metadata": {},
   "source": [
    "As it turns out, 99% of the vehicles in our database have gas as a fuel type, either by itself or combined with another fuel type. Since that is the case, let's create a second set of categories - specifically, a new Gas Type field that extracts the type of gas (Regular, Midgrade, Premium, Diesel, or Natural) each vehicle accepts."
   ]
  },
  {
   "cell_type": "code",
   "execution_count": 22,
   "metadata": {
    "collapsed": true
   },
   "outputs": [],
   "source": [
    "vehicles.loc[vehicles['Fuel Type'].str.contains(\n",
    "        'Regular|Gasoline'),'Gas Type'] = 'Regular'\n",
    "\n",
    "vehicles.loc[vehicles['Fuel Type'] == 'Midgrade',\n",
    "             'Gas Type'] = 'Midgrade'\n",
    "\n",
    "vehicles.loc[vehicles['Fuel Type'].str.contains('Premium'),\n",
    "             'Gas Type'] = 'Premium'\n",
    "\n",
    "vehicles.loc[vehicles['Fuel Type'] == 'Diesel',\n",
    "             'Gas Type'] = 'Diesel'\n",
    "\n",
    "vehicles.loc[vehicles['Fuel Type'].str.contains('natural|CNG'),\n",
    "             'Gas Type'] = 'Natural'"
   ]
  },
  {
   "cell_type": "markdown",
   "metadata": {},
   "source": [
    "## Creating Categories from Continuous Variables\n",
    "\n",
    "The next way we can create additional categories in our data is by binning some of our continuous variables - breaking them up into different categories based on a **threshold** or **distribution**. There are multiple ways you can do this, but I like to use **quintiles** because it gives me one middle category, two categories outside of that which are moderately higher and lower, and then two extreme categories at the ends. I find that this is a very intuitive way to break things up and provides some consistency across categories. In our data set, I've identified 4 fields that we can bin this way."
   ]
  },
  {
   "cell_type": "code",
   "execution_count": 24,
   "metadata": {
    "collapsed": true
   },
   "outputs": [],
   "source": [
    "efficiency_categories = ['Very Low Efficiency', 'Low Efficiency',\n",
    "                         'Moderate Efficiency','High Efficiency',\n",
    "                         'Very High Efficiency']\n",
    "\n",
    "vehicles['Fuel Efficiency'] = pd.qcut(vehicles['Combined MPG'], 5, efficiency_categories)\n",
    "\n",
    "engine_categories = ['Very Small Engine', 'Small Engine','Moderate Engine','Large Engine', 'Very Large Engine']\n",
    "\n",
    "vehicles['Engine Size'] = pd.qcut(vehicles['Engine Displacement'], 5, engine_categories)\n",
    "\n",
    "emission_categories = ['Very Low Emissions', 'Low Emissions',\n",
    "                        'Moderate Emissions','High Emissions',\n",
    "                        'Very High Emissions']\n",
    "\n",
    "vehicles['Emissions'] = pd.qcut(vehicles['CO2 Emission Grams/Mile'], 5, emission_categories)\n",
    "\n",
    "fuelcost_categories = ['Very Low Fuel Cost', 'Low Fuel Cost',\n",
    "                       'Moderate Fuel Cost','High Fuel Cost',\n",
    "                       'Very High Fuel Cost']\n",
    "\n",
    "vehicles['Fuel Cost'] = pd.qcut(vehicles['Fuel Cost/Year'],\n",
    "                                5, fuelcost_categories)"
   ]
  },
  {
   "cell_type": "markdown",
   "metadata": {},
   "source": [
    "## Clustering to Create Additional Categories"
   ]
  },
  {
   "cell_type": "markdown",
   "metadata": {},
   "source": [
    "The final way we are going to prepare our data is by clustering to create additional categories. There are a few reasons why I like to use clustering for this. First, **it takes multiple fields into consideration together** at the same time, whereas the other categorization methods only consider one field at a time. This will allow you to categorize together entities that are similar across a variety of attributes, but might not be close enough in each individual attribute to get grouped together."
   ]
  },
  {
   "cell_type": "markdown",
   "metadata": {},
   "source": [
    "Clustering also **creates new categories** for you automatically, which takes much less time than having to comb through the data yourself identifying patterns across attributes that you can form categories on. It will automatically group similar items together for you."
   ]
  },
  {
   "cell_type": "markdown",
   "metadata": {},
   "source": [
    "The third reason I like to use clustering is because it will sometimes group things in ways that you, as a human, may not have thought of."
   ]
  },
  {
   "cell_type": "code",
   "execution_count": 25,
   "metadata": {
    "collapsed": true
   },
   "outputs": [],
   "source": [
    "cluster_columns = ['Engine Displacement','Cylinders','Fuel Barrels/Year',\n",
    "                   'City MPG','Highway MPG','Combined MPG',\n",
    "                   'CO2 Emission Grams/Mile', 'Fuel Cost/Year']"
   ]
  },
  {
   "cell_type": "markdown",
   "metadata": {},
   "source": [
    "Next, we want to scale the features we are going to cluster on. There are a variety of ways to normalize and scale variables, but I'm going to keep things relatively simple and just use Scikit-Learn's MaxAbsScaler, which will divide each value by the max absolute value for that feature. This will preserve the distributions in the data and convert the values in each field to a number between 0 and 1 (technically -1 and 1, but we don't have any negatives)."
   ]
  },
  {
   "cell_type": "code",
   "execution_count": 28,
   "metadata": {
    "collapsed": true
   },
   "outputs": [],
   "source": [
    "from sklearn import preprocessing\n",
    "scaler = preprocessing.MaxAbsScaler()\n",
    "\n",
    "vehicles_cluster = scaler.fit_transform(vehicles[cluster_columns])\n",
    "vehicles_cluster = pd.DataFrame(vehicles_cluster, columns=cluster_columns)"
   ]
  },
  {
   "cell_type": "code",
   "execution_count": 29,
   "metadata": {
    "collapsed": false
   },
   "outputs": [
    {
     "data": {
      "text/html": [
       "<div>\n",
       "<table border=\"1\" class=\"dataframe\">\n",
       "  <thead>\n",
       "    <tr style=\"text-align: right;\">\n",
       "      <th></th>\n",
       "      <th>Engine Displacement</th>\n",
       "      <th>Cylinders</th>\n",
       "      <th>Fuel Barrels/Year</th>\n",
       "      <th>City MPG</th>\n",
       "      <th>Highway MPG</th>\n",
       "      <th>Combined MPG</th>\n",
       "      <th>CO2 Emission Grams/Mile</th>\n",
       "      <th>Fuel Cost/Year</th>\n",
       "    </tr>\n",
       "  </thead>\n",
       "  <tbody>\n",
       "    <tr>\n",
       "      <th>0</th>\n",
       "      <td>0.297619</td>\n",
       "      <td>0.250</td>\n",
       "      <td>0.411765</td>\n",
       "      <td>0.310345</td>\n",
       "      <td>0.278689</td>\n",
       "      <td>0.303571</td>\n",
       "      <td>0.411765</td>\n",
       "      <td>0.336207</td>\n",
       "    </tr>\n",
       "    <tr>\n",
       "      <th>1</th>\n",
       "      <td>0.500000</td>\n",
       "      <td>0.375</td>\n",
       "      <td>0.538462</td>\n",
       "      <td>0.224138</td>\n",
       "      <td>0.213115</td>\n",
       "      <td>0.232143</td>\n",
       "      <td>0.538462</td>\n",
       "      <td>0.439655</td>\n",
       "    </tr>\n",
       "    <tr>\n",
       "      <th>2</th>\n",
       "      <td>0.297619</td>\n",
       "      <td>0.250</td>\n",
       "      <td>0.437500</td>\n",
       "      <td>0.275862</td>\n",
       "      <td>0.278689</td>\n",
       "      <td>0.285714</td>\n",
       "      <td>0.437500</td>\n",
       "      <td>0.362069</td>\n",
       "    </tr>\n",
       "    <tr>\n",
       "      <th>3</th>\n",
       "      <td>0.500000</td>\n",
       "      <td>0.375</td>\n",
       "      <td>0.538462</td>\n",
       "      <td>0.224138</td>\n",
       "      <td>0.213115</td>\n",
       "      <td>0.232143</td>\n",
       "      <td>0.538462</td>\n",
       "      <td>0.439655</td>\n",
       "    </tr>\n",
       "    <tr>\n",
       "      <th>4</th>\n",
       "      <td>0.452381</td>\n",
       "      <td>0.375</td>\n",
       "      <td>0.437500</td>\n",
       "      <td>0.241379</td>\n",
       "      <td>0.344262</td>\n",
       "      <td>0.285714</td>\n",
       "      <td>0.437500</td>\n",
       "      <td>0.439655</td>\n",
       "    </tr>\n",
       "  </tbody>\n",
       "</table>\n",
       "</div>"
      ],
      "text/plain": [
       "   Engine Displacement  Cylinders  Fuel Barrels/Year  City MPG  Highway MPG  \\\n",
       "0             0.297619      0.250           0.411765  0.310345     0.278689   \n",
       "1             0.500000      0.375           0.538462  0.224138     0.213115   \n",
       "2             0.297619      0.250           0.437500  0.275862     0.278689   \n",
       "3             0.500000      0.375           0.538462  0.224138     0.213115   \n",
       "4             0.452381      0.375           0.437500  0.241379     0.344262   \n",
       "\n",
       "   Combined MPG  CO2 Emission Grams/Mile  Fuel Cost/Year  \n",
       "0      0.303571                 0.411765        0.336207  \n",
       "1      0.232143                 0.538462        0.439655  \n",
       "2      0.285714                 0.437500        0.362069  \n",
       "3      0.232143                 0.538462        0.439655  \n",
       "4      0.285714                 0.437500        0.439655  "
      ]
     },
     "execution_count": 29,
     "metadata": {},
     "output_type": "execute_result"
    }
   ],
   "source": [
    "vehicles_cluster.head()"
   ]
  },
  {
   "cell_type": "markdown",
   "metadata": {},
   "source": [
    "Now that our features are scaled, let's write a couple of functions. The first function we are going to write is a kmeans_cluster function that will k-means cluster a given data frame into a specified number of clusters. It will then return a copy of the original data frame with those clusters appended in a column named Cluster."
   ]
  },
  {
   "cell_type": "code",
   "execution_count": 34,
   "metadata": {
    "collapsed": true
   },
   "outputs": [],
   "source": [
    "from sklearn.cluster import KMeans\n",
    "\n",
    "def kmeans_cluster(df, n_cluster=2):\n",
    "    model = KMeans(n_clusters=n_cluster, random_state=1)\n",
    "    clusters = model.fit_predict(df)\n",
    "    cluster_results =df.copy()\n",
    "    cluster_results['Cluster'] = clusters\n",
    "    return cluster_results"
   ]
  },
  {
   "cell_type": "markdown",
   "metadata": {},
   "source": [
    "Our second function, called summarize_clustering is going to **count** the number of vehicles that fall into each cluster and calculate the cluster means for each feature. It is going to merge the counts and means into a single data frame and then return that summary to us."
   ]
  },
  {
   "cell_type": "code",
   "execution_count": 37,
   "metadata": {
    "collapsed": true
   },
   "outputs": [],
   "source": [
    "def summarize_clustering(results):\n",
    "    cluster_size = results.groupby(['Cluster']).size().reset_index()\n",
    "    cluster_size.columns = ['Cluster', 'Count']\n",
    "    cluster_means = results.groupby(['Cluster'], as_index=False).mean()\n",
    "    cluster_summary = pd.merge(cluster_size, cluster_means, on='Cluster')\n",
    "    \n",
    "    return cluster_summary"
   ]
  },
  {
   "cell_type": "markdown",
   "metadata": {},
   "source": [
    "We now have functions for what we need to do, so the next step is to actually **cluster our data**.\n",
    "How do we determine how many clusters we want?"
   ]
  },
  {
   "cell_type": "markdown",
   "metadata": {},
   "source": [
    "There are a number of approaches for figuring this out, but for the sake of simplicity, we are just going to plug in a couple of numbers and visualize the results to arrive at a good enough estimate. Remember earlier we were trying to aggregate our categorical variables to less than 8-10 discrete values? \n",
    "We are going to apply the same logic here. Let's start out with 8 clusters and see what kind of results we get."
   ]
  },
  {
   "cell_type": "code",
   "execution_count": 39,
   "metadata": {
    "collapsed": false
   },
   "outputs": [
    {
     "data": {
      "text/html": [
       "<div>\n",
       "<table border=\"1\" class=\"dataframe\">\n",
       "  <thead>\n",
       "    <tr style=\"text-align: right;\">\n",
       "      <th></th>\n",
       "      <th>Cluster</th>\n",
       "      <th>Count</th>\n",
       "      <th>Engine Displacement</th>\n",
       "      <th>Cylinders</th>\n",
       "      <th>Fuel Barrels/Year</th>\n",
       "      <th>City MPG</th>\n",
       "      <th>Highway MPG</th>\n",
       "      <th>Combined MPG</th>\n",
       "      <th>CO2 Emission Grams/Mile</th>\n",
       "      <th>Fuel Cost/Year</th>\n",
       "    </tr>\n",
       "  </thead>\n",
       "  <tbody>\n",
       "    <tr>\n",
       "      <th>0</th>\n",
       "      <td>0</td>\n",
       "      <td>6334</td>\n",
       "      <td>0.241518</td>\n",
       "      <td>0.254243</td>\n",
       "      <td>0.281230</td>\n",
       "      <td>0.383366</td>\n",
       "      <td>0.487341</td>\n",
       "      <td>0.447303</td>\n",
       "      <td>0.281191</td>\n",
       "      <td>0.240410</td>\n",
       "    </tr>\n",
       "    <tr>\n",
       "      <th>1</th>\n",
       "      <td>1</td>\n",
       "      <td>2912</td>\n",
       "      <td>0.595553</td>\n",
       "      <td>0.500215</td>\n",
       "      <td>0.395664</td>\n",
       "      <td>0.262860</td>\n",
       "      <td>0.360903</td>\n",
       "      <td>0.315677</td>\n",
       "      <td>0.400217</td>\n",
       "      <td>0.364192</td>\n",
       "    </tr>\n",
       "    <tr>\n",
       "      <th>2</th>\n",
       "      <td>2</td>\n",
       "      <td>3999</td>\n",
       "      <td>0.631932</td>\n",
       "      <td>0.501500</td>\n",
       "      <td>0.495338</td>\n",
       "      <td>0.218378</td>\n",
       "      <td>0.281825</td>\n",
       "      <td>0.255475</td>\n",
       "      <td>0.495517</td>\n",
       "      <td>0.422733</td>\n",
       "    </tr>\n",
       "    <tr>\n",
       "      <th>3</th>\n",
       "      <td>3</td>\n",
       "      <td>5838</td>\n",
       "      <td>0.267466</td>\n",
       "      <td>0.253950</td>\n",
       "      <td>0.346015</td>\n",
       "      <td>0.314615</td>\n",
       "      <td>0.392238</td>\n",
       "      <td>0.363536</td>\n",
       "      <td>0.345953</td>\n",
       "      <td>0.298589</td>\n",
       "    </tr>\n",
       "    <tr>\n",
       "      <th>4</th>\n",
       "      <td>4</td>\n",
       "      <td>7704</td>\n",
       "      <td>0.382627</td>\n",
       "      <td>0.374854</td>\n",
       "      <td>0.353653</td>\n",
       "      <td>0.297454</td>\n",
       "      <td>0.405367</td>\n",
       "      <td>0.355896</td>\n",
       "      <td>0.353625</td>\n",
       "      <td>0.314951</td>\n",
       "    </tr>\n",
       "    <tr>\n",
       "      <th>5</th>\n",
       "      <td>5</td>\n",
       "      <td>1826</td>\n",
       "      <td>0.200601</td>\n",
       "      <td>0.244660</td>\n",
       "      <td>0.215546</td>\n",
       "      <td>0.518356</td>\n",
       "      <td>0.616882</td>\n",
       "      <td>0.587946</td>\n",
       "      <td>0.216954</td>\n",
       "      <td>0.183282</td>\n",
       "    </tr>\n",
       "    <tr>\n",
       "      <th>6</th>\n",
       "      <td>6</td>\n",
       "      <td>4766</td>\n",
       "      <td>0.446931</td>\n",
       "      <td>0.373387</td>\n",
       "      <td>0.437697</td>\n",
       "      <td>0.249606</td>\n",
       "      <td>0.310320</td>\n",
       "      <td>0.287299</td>\n",
       "      <td>0.437672</td>\n",
       "      <td>0.371041</td>\n",
       "    </tr>\n",
       "    <tr>\n",
       "      <th>7</th>\n",
       "      <td>7</td>\n",
       "      <td>1716</td>\n",
       "      <td>0.682005</td>\n",
       "      <td>0.570950</td>\n",
       "      <td>0.601364</td>\n",
       "      <td>0.178472</td>\n",
       "      <td>0.234963</td>\n",
       "      <td>0.210290</td>\n",
       "      <td>0.601190</td>\n",
       "      <td>0.544153</td>\n",
       "    </tr>\n",
       "  </tbody>\n",
       "</table>\n",
       "</div>"
      ],
      "text/plain": [
       "   Cluster  Count  Engine Displacement  Cylinders  Fuel Barrels/Year  \\\n",
       "0        0   6334             0.241518   0.254243           0.281230   \n",
       "1        1   2912             0.595553   0.500215           0.395664   \n",
       "2        2   3999             0.631932   0.501500           0.495338   \n",
       "3        3   5838             0.267466   0.253950           0.346015   \n",
       "4        4   7704             0.382627   0.374854           0.353653   \n",
       "5        5   1826             0.200601   0.244660           0.215546   \n",
       "6        6   4766             0.446931   0.373387           0.437697   \n",
       "7        7   1716             0.682005   0.570950           0.601364   \n",
       "\n",
       "   City MPG  Highway MPG  Combined MPG  CO2 Emission Grams/Mile  \\\n",
       "0  0.383366     0.487341      0.447303                 0.281191   \n",
       "1  0.262860     0.360903      0.315677                 0.400217   \n",
       "2  0.218378     0.281825      0.255475                 0.495517   \n",
       "3  0.314615     0.392238      0.363536                 0.345953   \n",
       "4  0.297454     0.405367      0.355896                 0.353625   \n",
       "5  0.518356     0.616882      0.587946                 0.216954   \n",
       "6  0.249606     0.310320      0.287299                 0.437672   \n",
       "7  0.178472     0.234963      0.210290                 0.601190   \n",
       "\n",
       "   Fuel Cost/Year  \n",
       "0        0.240410  \n",
       "1        0.364192  \n",
       "2        0.422733  \n",
       "3        0.298589  \n",
       "4        0.314951  \n",
       "5        0.183282  \n",
       "6        0.371041  \n",
       "7        0.544153  "
      ]
     },
     "execution_count": 39,
     "metadata": {},
     "output_type": "execute_result"
    }
   ],
   "source": [
    "cluster_results = kmeans_cluster(vehicles_cluster, 8)\n",
    "cluster_summary = summarize_clustering(cluster_results)\n",
    "\n",
    "cluster_summary"
   ]
  },
  {
   "cell_type": "markdown",
   "metadata": {},
   "source": [
    "By looking at the Count column, you can tell that there are some clusters that have significantly more records in them (ex. Cluster 0) and others that have significantly fewer (ex. Cluster 5). Other than that, though, it is difficult to notice anything informative about the summary."
   ]
  },
  {
   "cell_type": "markdown",
   "metadata": {},
   "source": [
    "This is a prime opportunity to use a visualization to discover insights faster. With just a couple import statements and a single line of code, we can light this summary up in a heatmap so that we can see the contrast between all those decimals and between the different clusters."
   ]
  },
  {
   "cell_type": "code",
   "execution_count": 41,
   "metadata": {
    "collapsed": false
   },
   "outputs": [
    {
     "data": {
      "text/plain": [
       "<matplotlib.axes._subplots.AxesSubplot at 0x7fb861a296a0>"
      ]
     },
     "execution_count": 41,
     "metadata": {},
     "output_type": "execute_result"
    },
    {
     "data": {
      "image/png": "[encoded data removed]",
      "text/plain": [
       "<matplotlib.figure.Figure at 0x7fb861a1dcc0>"
      ]
     },
     "metadata": {},
     "output_type": "display_data"
    }
   ],
   "source": [
    "%matplotlib inline\n",
    "import matplotlib.pyplot as plt\n",
    "import seaborn as sns\n",
    "\n",
    "sns.heatmap(cluster_summary[cluster_columns].transpose(), annot=True)"
   ]
  },
  {
   "cell_type": "code",
   "execution_count": 43,
   "metadata": {
    "collapsed": false
   },
   "outputs": [
    {
     "data": {
      "text/plain": [
       "<matplotlib.axes._subplots.AxesSubplot at 0x7fb862098470>"
      ]
     },
     "execution_count": 43,
     "metadata": {},
     "output_type": "execute_result"
    },
    {
     "data": {
      "image/png": "[encoded data removed]",
      "text/plain": [
       "<matplotlib.figure.Figure at 0x7fb861b72d30>"
      ]
     },
     "metadata": {},
     "output_type": "display_data"
    }
   ],
   "source": [
    "cluster_results = kmeans_cluster(vehicles_cluster, 4)\n",
    "cluster_summary = summarize_clustering(cluster_results)\n",
    "\n",
    "sns.heatmap(cluster_summary[cluster_columns].transpose(), annot=True)"
   ]
  },
  {
   "cell_type": "code",
   "execution_count": null,
   "metadata": {
    "collapsed": true
   },
   "outputs": [],
   "source": []
  }
 ],
 "metadata": {
  "kernelspec": {
   "display_name": "Python 3",
   "language": "python",
   "name": "python3"
  },
  "language_info": {
   "codemirror_mode": {
    "name": "ipython",
    "version": 3
   },
   "file_extension": ".py",
   "mimetype": "text/x-python",
   "name": "python",
   "nbconvert_exporter": "python",
   "pygments_lexer": "ipython3",
   "version": "3.4.5"
  }
 },
 "nbformat": 4,
 "nbformat_minor": 0
}
