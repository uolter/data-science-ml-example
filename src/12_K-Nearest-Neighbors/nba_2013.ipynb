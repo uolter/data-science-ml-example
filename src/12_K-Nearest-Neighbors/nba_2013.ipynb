{
 "cells": [
  {
   "cell_type": "markdown",
   "metadata": {},
   "source": [
    "# K nearest neighbors in python Nba Stats 2013"
   ]
  },
  {
   "cell_type": "code",
   "execution_count": 11,
   "metadata": {
    "collapsed": false
   },
   "outputs": [
    {
     "data": {
      "text/html": [
       "<div>\n",
       "<table border=\"1\" class=\"dataframe\">\n",
       "  <thead>\n",
       "    <tr style=\"text-align: right;\">\n",
       "      <th></th>\n",
       "      <th>Rk</th>\n",
       "      <th>Player</th>\n",
       "      <th>Pos</th>\n",
       "      <th>Age</th>\n",
       "      <th>Tm</th>\n",
       "      <th>G</th>\n",
       "      <th>MP</th>\n",
       "      <th>PER</th>\n",
       "      <th>TS%</th>\n",
       "      <th>3PAr</th>\n",
       "      <th>...</th>\n",
       "      <th>TOV%</th>\n",
       "      <th>USG%</th>\n",
       "      <th>OWS</th>\n",
       "      <th>DWS</th>\n",
       "      <th>WS</th>\n",
       "      <th>WS/48</th>\n",
       "      <th>OBPM</th>\n",
       "      <th>DBPM</th>\n",
       "      <th>BPM</th>\n",
       "      <th>VORP</th>\n",
       "    </tr>\n",
       "  </thead>\n",
       "  <tbody>\n",
       "    <tr>\n",
       "      <th>0</th>\n",
       "      <td>1</td>\n",
       "      <td>Quincy Acy</td>\n",
       "      <td>PF</td>\n",
       "      <td>22</td>\n",
       "      <td>TOR</td>\n",
       "      <td>29</td>\n",
       "      <td>342</td>\n",
       "      <td>15.9</td>\n",
       "      <td>0.632</td>\n",
       "      <td>0.027</td>\n",
       "      <td>...</td>\n",
       "      <td>15.6</td>\n",
       "      <td>14.7</td>\n",
       "      <td>0.7</td>\n",
       "      <td>0.4</td>\n",
       "      <td>1.1</td>\n",
       "      <td>0.157</td>\n",
       "      <td>-0.6</td>\n",
       "      <td>1.0</td>\n",
       "      <td>0.5</td>\n",
       "      <td>0.2</td>\n",
       "    </tr>\n",
       "    <tr>\n",
       "      <th>1</th>\n",
       "      <td>2</td>\n",
       "      <td>Jeff Adrien</td>\n",
       "      <td>PF</td>\n",
       "      <td>26</td>\n",
       "      <td>CHA</td>\n",
       "      <td>52</td>\n",
       "      <td>713</td>\n",
       "      <td>13.4</td>\n",
       "      <td>0.493</td>\n",
       "      <td>0.012</td>\n",
       "      <td>...</td>\n",
       "      <td>13.1</td>\n",
       "      <td>15.6</td>\n",
       "      <td>0.5</td>\n",
       "      <td>0.4</td>\n",
       "      <td>1.0</td>\n",
       "      <td>0.064</td>\n",
       "      <td>-2.9</td>\n",
       "      <td>-0.4</td>\n",
       "      <td>-3.3</td>\n",
       "      <td>-0.2</td>\n",
       "    </tr>\n",
       "    <tr>\n",
       "      <th>2</th>\n",
       "      <td>3</td>\n",
       "      <td>Arron Afflalo</td>\n",
       "      <td>SF</td>\n",
       "      <td>27</td>\n",
       "      <td>ORL</td>\n",
       "      <td>64</td>\n",
       "      <td>2307</td>\n",
       "      <td>13.0</td>\n",
       "      <td>0.527</td>\n",
       "      <td>0.265</td>\n",
       "      <td>...</td>\n",
       "      <td>12.1</td>\n",
       "      <td>22.5</td>\n",
       "      <td>1.5</td>\n",
       "      <td>0.5</td>\n",
       "      <td>2.0</td>\n",
       "      <td>0.042</td>\n",
       "      <td>-0.4</td>\n",
       "      <td>-1.9</td>\n",
       "      <td>-2.3</td>\n",
       "      <td>-0.2</td>\n",
       "    </tr>\n",
       "    <tr>\n",
       "      <th>3</th>\n",
       "      <td>4</td>\n",
       "      <td>Josh Akognon</td>\n",
       "      <td>PG</td>\n",
       "      <td>26</td>\n",
       "      <td>DAL</td>\n",
       "      <td>3</td>\n",
       "      <td>9</td>\n",
       "      <td>15.3</td>\n",
       "      <td>0.625</td>\n",
       "      <td>0.500</td>\n",
       "      <td>...</td>\n",
       "      <td>0.0</td>\n",
       "      <td>20.3</td>\n",
       "      <td>0.0</td>\n",
       "      <td>0.0</td>\n",
       "      <td>0.0</td>\n",
       "      <td>0.196</td>\n",
       "      <td>4.3</td>\n",
       "      <td>-4.9</td>\n",
       "      <td>-0.6</td>\n",
       "      <td>0.0</td>\n",
       "    </tr>\n",
       "    <tr>\n",
       "      <th>4</th>\n",
       "      <td>5</td>\n",
       "      <td>Cole Aldrich</td>\n",
       "      <td>C</td>\n",
       "      <td>24</td>\n",
       "      <td>TOT</td>\n",
       "      <td>45</td>\n",
       "      <td>388</td>\n",
       "      <td>11.1</td>\n",
       "      <td>0.563</td>\n",
       "      <td>0.000</td>\n",
       "      <td>...</td>\n",
       "      <td>20.6</td>\n",
       "      <td>12.7</td>\n",
       "      <td>0.1</td>\n",
       "      <td>0.4</td>\n",
       "      <td>0.6</td>\n",
       "      <td>0.070</td>\n",
       "      <td>-4.4</td>\n",
       "      <td>0.4</td>\n",
       "      <td>-3.9</td>\n",
       "      <td>-0.2</td>\n",
       "    </tr>\n",
       "  </tbody>\n",
       "</table>\n",
       "<p>5 rows × 27 columns</p>\n",
       "</div>"
      ],
      "text/plain": [
       "   Rk         Player Pos  Age   Tm   G    MP   PER    TS%   3PAr  ...   TOV%  \\\n",
       "0   1     Quincy Acy  PF   22  TOR  29   342  15.9  0.632  0.027  ...   15.6   \n",
       "1   2    Jeff Adrien  PF   26  CHA  52   713  13.4  0.493  0.012  ...   13.1   \n",
       "2   3  Arron Afflalo  SF   27  ORL  64  2307  13.0  0.527  0.265  ...   12.1   \n",
       "3   4   Josh Akognon  PG   26  DAL   3     9  15.3  0.625  0.500  ...    0.0   \n",
       "4   5   Cole Aldrich   C   24  TOT  45   388  11.1  0.563  0.000  ...   20.6   \n",
       "\n",
       "   USG%  OWS  DWS   WS  WS/48  OBPM  DBPM  BPM  VORP  \n",
       "0  14.7  0.7  0.4  1.1  0.157  -0.6   1.0  0.5   0.2  \n",
       "1  15.6  0.5  0.4  1.0  0.064  -2.9  -0.4 -3.3  -0.2  \n",
       "2  22.5  1.5  0.5  2.0  0.042  -0.4  -1.9 -2.3  -0.2  \n",
       "3  20.3  0.0  0.0  0.0  0.196   4.3  -4.9 -0.6   0.0  \n",
       "4  12.7  0.1  0.4  0.6  0.070  -4.4   0.4 -3.9  -0.2  \n",
       "\n",
       "[5 rows x 27 columns]"
      ]
     },
     "execution_count": 11,
     "metadata": {},
     "output_type": "execute_result"
    }
   ],
   "source": [
    "import math\n",
    "import pandas\n",
    "\n",
    "with open(\"../data/nba_2013.csv\", 'r') as csvfile:\n",
    "    nba = pandas.read_csv(csvfile)\n",
    "\n",
    "\n",
    "nba.head()"
   ]
  },
  {
   "cell_type": "code",
   "execution_count": 7,
   "metadata": {
    "collapsed": false
   },
   "outputs": [
    {
     "name": "stdout",
     "output_type": "stream",
     "text": [
      "['Rk' 'Player' 'Pos' 'Age' 'Tm' 'G' 'MP' 'PER' 'TS%' '3PAr' 'FTr' 'ORB%'\n",
      " 'DRB%' 'TRB%' 'AST%' 'STL%' 'BLK%' 'TOV%' 'USG%' 'OWS' 'DWS' 'WS' 'WS/48'\n",
      " 'OBPM' 'DBPM' 'BPM' 'VORP']\n"
     ]
    }
   ],
   "source": [
    "print(nba.columns.values)"
   ]
  },
  {
   "cell_type": "code",
   "execution_count": 9,
   "metadata": {
    "collapsed": false
   },
   "outputs": [
    {
     "name": "stdout",
     "output_type": "stream",
     "text": [
      "<class 'pandas.core.frame.DataFrame'>\n",
      "Int64Index: 573 entries, 0 to 572\n",
      "Data columns (total 27 columns):\n",
      "Rk        573 non-null int64\n",
      "Player    573 non-null object\n",
      "Pos       573 non-null object\n",
      "Age       573 non-null int64\n",
      "Tm        573 non-null object\n",
      "G         573 non-null int64\n",
      "MP        573 non-null int64\n",
      "PER       572 non-null float64\n",
      "TS%       569 non-null float64\n",
      "3PAr      569 non-null float64\n",
      "FTr       569 non-null float64\n",
      "ORB%      572 non-null float64\n",
      "DRB%      572 non-null float64\n",
      "TRB%      572 non-null float64\n",
      "AST%      572 non-null float64\n",
      "STL%      572 non-null float64\n",
      "BLK%      572 non-null float64\n",
      "TOV%      570 non-null float64\n",
      "USG%      572 non-null float64\n",
      "OWS       573 non-null float64\n",
      "DWS       573 non-null float64\n",
      "WS        573 non-null float64\n",
      "WS/48     572 non-null float64\n",
      "OBPM      573 non-null float64\n",
      "DBPM      573 non-null float64\n",
      "BPM       573 non-null float64\n",
      "VORP      573 non-null float64\n",
      "dtypes: float64(20), int64(4), object(3)\n",
      "memory usage: 125.3+ KB\n"
     ]
    }
   ],
   "source": [
    "nba.info()"
   ]
  },
  {
   "cell_type": "code",
   "execution_count": 3,
   "metadata": {
    "collapsed": false
   },
   "outputs": [
    {
     "data": {
      "text/plain": [
       "Rk                 212\n",
       "Player    LeBron James\n",
       "Pos                 PF\n",
       "Age                 28\n",
       "Tm                 MIA\n",
       "G                   76\n",
       "MP                2877\n",
       "PER               31.6\n",
       "TS%               0.64\n",
       "3PAr             0.188\n",
       "FTr              0.395\n",
       "ORB%               4.4\n",
       "DRB%              20.8\n",
       "TRB%              13.1\n",
       "AST%              36.4\n",
       "STL%               2.4\n",
       "BLK%               1.9\n",
       "TOV%              12.4\n",
       "USG%              30.2\n",
       "OWS               14.6\n",
       "DWS                4.7\n",
       "WS                19.3\n",
       "WS/48            0.322\n",
       "OBPM                 9\n",
       "DBPM               1.8\n",
       "BPM               10.8\n",
       "VORP               9.2\n",
       "Name: 254, dtype: object"
      ]
     },
     "execution_count": 3,
     "metadata": {},
     "output_type": "execute_result"
    }
   ],
   "source": [
    "# Select Lebron James from our dataset\n",
    "selected_player = nba[nba[\"Player\"] == \"LeBron James\"].iloc[0]\n",
    "selected_player"
   ]
  },
  {
   "cell_type": "code",
   "execution_count": 14,
   "metadata": {
    "collapsed": false
   },
   "outputs": [],
   "source": [
    "# Choose only the numeric columns (we'll use these to compute euclidean distance)\n",
    "distance_columns = ['Age', 'G', 'MP', 'PER', 'TS%', '3PAr', 'FTr', 'ORB%', 'DRB%','TRB%','AST%', 'STL%', 'BLK%',\n",
    "                    'TOV%', 'USG%', 'OWS', 'DWS', 'WS', 'WS/48', 'OBPM', 'DBPM', 'BPM', 'VORP']\n",
    "\n",
    "def euclidean_distance(row):\n",
    "    \"\"\"\n",
    "    A simple euclidean distance function\n",
    "    \"\"\"\n",
    "    inner_value = 0\n",
    "    for k in distance_columns:\n",
    "        inner_value += (row[k] - selected_player[k]) ** 2\n",
    "    return math.sqrt(inner_value)\n",
    "\n",
    "# Find the distance from each player in the dataset to lebron.\n",
    "lebron_distance = nba.apply(euclidean_distance, axis=1)\n"
   ]
  },
  {
   "cell_type": "markdown",
   "metadata": {},
   "source": [
    "## Normalizing columns"
   ]
  },
  {
   "cell_type": "code",
   "execution_count": 19,
   "metadata": {
    "collapsed": false
   },
   "outputs": [
    {
     "data": {
      "text/html": [
       "<div>\n",
       "<table border=\"1\" class=\"dataframe\">\n",
       "  <thead>\n",
       "    <tr style=\"text-align: right;\">\n",
       "      <th></th>\n",
       "      <th>Age</th>\n",
       "      <th>G</th>\n",
       "      <th>MP</th>\n",
       "      <th>PER</th>\n",
       "      <th>TS%</th>\n",
       "      <th>3PAr</th>\n",
       "      <th>FTr</th>\n",
       "      <th>ORB%</th>\n",
       "      <th>DRB%</th>\n",
       "      <th>TRB%</th>\n",
       "      <th>...</th>\n",
       "      <th>TOV%</th>\n",
       "      <th>USG%</th>\n",
       "      <th>OWS</th>\n",
       "      <th>DWS</th>\n",
       "      <th>WS</th>\n",
       "      <th>WS/48</th>\n",
       "      <th>OBPM</th>\n",
       "      <th>DBPM</th>\n",
       "      <th>BPM</th>\n",
       "      <th>VORP</th>\n",
       "    </tr>\n",
       "  </thead>\n",
       "  <tbody>\n",
       "    <tr>\n",
       "      <th>0</th>\n",
       "      <td>-1.072090</td>\n",
       "      <td>-0.779918</td>\n",
       "      <td>-0.877945</td>\n",
       "      <td>0.624448</td>\n",
       "      <td>1.327789</td>\n",
       "      <td>-0.983686</td>\n",
       "      <td>0.937551</td>\n",
       "      <td>0.830651</td>\n",
       "      <td>0.330493</td>\n",
       "      <td>0.633034</td>\n",
       "      <td>...</td>\n",
       "      <td>0.118567</td>\n",
       "      <td>-0.769908</td>\n",
       "      <td>-0.247152</td>\n",
       "      <td>-0.613711</td>\n",
       "      <td>-0.423094</td>\n",
       "      <td>0.938370</td>\n",
       "      <td>0.329792</td>\n",
       "      <td>0.748417</td>\n",
       "      <td>0.638000</td>\n",
       "      <td>-0.272843</td>\n",
       "    </tr>\n",
       "    <tr>\n",
       "      <th>1</th>\n",
       "      <td>-0.126638</td>\n",
       "      <td>0.107234</td>\n",
       "      <td>-0.455442</td>\n",
       "      <td>0.210580</td>\n",
       "      <td>-0.063135</td>\n",
       "      <td>-1.054071</td>\n",
       "      <td>1.297836</td>\n",
       "      <td>0.884715</td>\n",
       "      <td>0.982459</td>\n",
       "      <td>1.058268</td>\n",
       "      <td>...</td>\n",
       "      <td>-0.184333</td>\n",
       "      <td>-0.596823</td>\n",
       "      <td>-0.348743</td>\n",
       "      <td>-0.613711</td>\n",
       "      <td>-0.458475</td>\n",
       "      <td>0.031240</td>\n",
       "      <td>-0.313918</td>\n",
       "      <td>0.046546</td>\n",
       "      <td>-0.237626</td>\n",
       "      <td>-0.611055</td>\n",
       "    </tr>\n",
       "    <tr>\n",
       "      <th>2</th>\n",
       "      <td>0.109725</td>\n",
       "      <td>0.570095</td>\n",
       "      <td>1.359842</td>\n",
       "      <td>0.144362</td>\n",
       "      <td>0.277091</td>\n",
       "      <td>0.133093</td>\n",
       "      <td>-0.131020</td>\n",
       "      <td>-0.773247</td>\n",
       "      <td>-0.562418</td>\n",
       "      <td>-0.772085</td>\n",
       "      <td>...</td>\n",
       "      <td>-0.305494</td>\n",
       "      <td>0.730167</td>\n",
       "      <td>0.159213</td>\n",
       "      <td>-0.527202</td>\n",
       "      <td>-0.104662</td>\n",
       "      <td>-0.183349</td>\n",
       "      <td>0.385767</td>\n",
       "      <td>-0.705458</td>\n",
       "      <td>-0.007198</td>\n",
       "      <td>-0.611055</td>\n",
       "    </tr>\n",
       "    <tr>\n",
       "      <th>3</th>\n",
       "      <td>-0.126638</td>\n",
       "      <td>-1.782785</td>\n",
       "      <td>-1.257173</td>\n",
       "      <td>0.525120</td>\n",
       "      <td>1.257742</td>\n",
       "      <td>1.235795</td>\n",
       "      <td>-1.138179</td>\n",
       "      <td>-1.025546</td>\n",
       "      <td>-0.307300</td>\n",
       "      <td>-0.698132</td>\n",
       "      <td>...</td>\n",
       "      <td>-1.771531</td>\n",
       "      <td>0.307069</td>\n",
       "      <td>-0.602722</td>\n",
       "      <td>-0.959744</td>\n",
       "      <td>-0.812288</td>\n",
       "      <td>1.318779</td>\n",
       "      <td>1.701174</td>\n",
       "      <td>-2.209466</td>\n",
       "      <td>0.384529</td>\n",
       "      <td>-0.441949</td>\n",
       "    </tr>\n",
       "    <tr>\n",
       "      <th>4</th>\n",
       "      <td>-0.599364</td>\n",
       "      <td>-0.162769</td>\n",
       "      <td>-0.825559</td>\n",
       "      <td>-0.170178</td>\n",
       "      <td>0.637330</td>\n",
       "      <td>-1.110380</td>\n",
       "      <td>-0.114643</td>\n",
       "      <td>0.542310</td>\n",
       "      <td>1.761984</td>\n",
       "      <td>1.428036</td>\n",
       "      <td>...</td>\n",
       "      <td>0.724368</td>\n",
       "      <td>-1.154543</td>\n",
       "      <td>-0.551926</td>\n",
       "      <td>-0.613711</td>\n",
       "      <td>-0.600000</td>\n",
       "      <td>0.089765</td>\n",
       "      <td>-0.733729</td>\n",
       "      <td>0.447615</td>\n",
       "      <td>-0.375883</td>\n",
       "      <td>-0.611055</td>\n",
       "    </tr>\n",
       "  </tbody>\n",
       "</table>\n",
       "<p>5 rows × 23 columns</p>\n",
       "</div>"
      ],
      "text/plain": [
       "        Age         G        MP       PER       TS%      3PAr       FTr  \\\n",
       "0 -1.072090 -0.779918 -0.877945  0.624448  1.327789 -0.983686  0.937551   \n",
       "1 -0.126638  0.107234 -0.455442  0.210580 -0.063135 -1.054071  1.297836   \n",
       "2  0.109725  0.570095  1.359842  0.144362  0.277091  0.133093 -0.131020   \n",
       "3 -0.126638 -1.782785 -1.257173  0.525120  1.257742  1.235795 -1.138179   \n",
       "4 -0.599364 -0.162769 -0.825559 -0.170178  0.637330 -1.110380 -0.114643   \n",
       "\n",
       "       ORB%      DRB%      TRB%    ...         TOV%      USG%       OWS  \\\n",
       "0  0.830651  0.330493  0.633034    ...     0.118567 -0.769908 -0.247152   \n",
       "1  0.884715  0.982459  1.058268    ...    -0.184333 -0.596823 -0.348743   \n",
       "2 -0.773247 -0.562418 -0.772085    ...    -0.305494  0.730167  0.159213   \n",
       "3 -1.025546 -0.307300 -0.698132    ...    -1.771531  0.307069 -0.602722   \n",
       "4  0.542310  1.761984  1.428036    ...     0.724368 -1.154543 -0.551926   \n",
       "\n",
       "        DWS        WS     WS/48      OBPM      DBPM       BPM      VORP  \n",
       "0 -0.613711 -0.423094  0.938370  0.329792  0.748417  0.638000 -0.272843  \n",
       "1 -0.613711 -0.458475  0.031240 -0.313918  0.046546 -0.237626 -0.611055  \n",
       "2 -0.527202 -0.104662 -0.183349  0.385767 -0.705458 -0.007198 -0.611055  \n",
       "3 -0.959744 -0.812288  1.318779  1.701174 -2.209466  0.384529 -0.441949  \n",
       "4 -0.613711 -0.600000  0.089765 -0.733729  0.447615 -0.375883 -0.611055  \n",
       "\n",
       "[5 rows x 23 columns]"
      ]
     },
     "execution_count": 19,
     "metadata": {},
     "output_type": "execute_result"
    }
   ],
   "source": [
    "# Select only the numeric columns from the NBA dataset\n",
    "nba_numeric = nba[distance_columns]\n",
    "\n",
    "# Normalize all of the numeric columns\n",
    "nba_normalized = (nba_numeric - nba_numeric.mean()) / nba_numeric.std()\n",
    "nba_normalized.head()"
   ]
  },
  {
   "cell_type": "markdown",
   "metadata": {},
   "source": [
    "## Finding the nearest neighbor"
   ]
  },
  {
   "cell_type": "code",
   "execution_count": 24,
   "metadata": {
    "collapsed": false
   },
   "outputs": [],
   "source": [
    "from scipy.spatial import distance\n",
    "\n",
    "# Fill in NA values in nba_normalized\n",
    "nba_normalized.fillna(0, inplace=True)\n",
    "\n",
    "# Find the normalized vector for lebron james.\n",
    "lebron_normalized = nba_normalized[nba[\"Player\"] == \"LeBron James\"]\n",
    "\n",
    "# Find the distance between lebron james and everyone else.\n",
    "euclidean_distances = nba_normalized.apply(lambda row: distance.euclidean(row, lebron_normalized), axis=1)"
   ]
  },
  {
   "cell_type": "code",
   "execution_count": 26,
   "metadata": {
    "collapsed": false
   },
   "outputs": [
    {
     "data": {
      "text/html": [
       "<div>\n",
       "<table border=\"1\" class=\"dataframe\">\n",
       "  <thead>\n",
       "    <tr style=\"text-align: right;\">\n",
       "      <th></th>\n",
       "      <th>dist</th>\n",
       "      <th>idx</th>\n",
       "    </tr>\n",
       "  </thead>\n",
       "  <tbody>\n",
       "    <tr>\n",
       "      <th>254</th>\n",
       "      <td>0.000000</td>\n",
       "      <td>254</td>\n",
       "    </tr>\n",
       "    <tr>\n",
       "      <th>148</th>\n",
       "      <td>3.230224</td>\n",
       "      <td>148</td>\n",
       "    </tr>\n",
       "    <tr>\n",
       "      <th>409</th>\n",
       "      <td>5.843237</td>\n",
       "      <td>409</td>\n",
       "    </tr>\n",
       "    <tr>\n",
       "      <th>207</th>\n",
       "      <td>6.135291</td>\n",
       "      <td>207</td>\n",
       "    </tr>\n",
       "    <tr>\n",
       "      <th>551</th>\n",
       "      <td>6.620225</td>\n",
       "      <td>551</td>\n",
       "    </tr>\n",
       "  </tbody>\n",
       "</table>\n",
       "</div>"
      ],
      "text/plain": [
       "         dist  idx\n",
       "254  0.000000  254\n",
       "148  3.230224  148\n",
       "409  5.843237  409\n",
       "207  6.135291  207\n",
       "551  6.620225  551"
      ]
     },
     "execution_count": 26,
     "metadata": {},
     "output_type": "execute_result"
    }
   ],
   "source": [
    "# Create a new dataframe with distances.\n",
    "distance_frame = pandas.DataFrame(data={\"dist\": euclidean_distances, \"idx\": euclidean_distances.index})\n",
    "distance_frame.sort(\"dist\", inplace=True)\n",
    "distance_frame.head()"
   ]
  },
  {
   "cell_type": "code",
   "execution_count": 27,
   "metadata": {
    "collapsed": true
   },
   "outputs": [],
   "source": [
    "# Find the most similar player to lebron (the lowest distance to lebron is lebron, the second smallest is the most similar non-lebron player)\n",
    "second_smallest = distance_frame.iloc[1][\"idx\"]\n",
    "most_similar_to_lebron = nba.loc[int(second_smallest)][\"Player\"]"
   ]
  },
  {
   "cell_type": "code",
   "execution_count": 28,
   "metadata": {
    "collapsed": false
   },
   "outputs": [
    {
     "data": {
      "text/plain": [
       "'Kevin Durant'"
      ]
     },
     "execution_count": 28,
     "metadata": {},
     "output_type": "execute_result"
    }
   ],
   "source": [
    "most_similar_to_lebron"
   ]
  },
  {
   "cell_type": "markdown",
   "metadata": {},
   "source": [
    "# Generating training and testing sets"
   ]
  },
  {
   "cell_type": "code",
   "execution_count": 37,
   "metadata": {
    "collapsed": true
   },
   "outputs": [],
   "source": [
    "import random\n",
    "from numpy.random import permutation\n",
    "\n",
    "nba.fillna(0, inplace=True)\n",
    "\n",
    "# Randomly shuffle the index of nba.\n",
    "random_indices = permutation(nba_normalized.index)\n",
    "# Set a cutoff for how many items we want in the test set (in this case 1/3 of the items)\n",
    "test_cutoff = math.floor(len(nba_normalized)/3)\n",
    "# Generate the test set by taking the first 1/3 of the randomly shuffled indices.\n",
    "test = nba_normalized.loc[random_indices[1:test_cutoff]]\n",
    "# Generate the train set with the rest of the data.\n",
    "train = nba_normalized.loc[random_indices[test_cutoff:]]"
   ]
  },
  {
   "cell_type": "markdown",
   "metadata": {},
   "source": [
    "# Using sklearn for k nearest neighbors"
   ]
  },
  {
   "cell_type": "code",
   "execution_count": 38,
   "metadata": {
    "collapsed": true
   },
   "outputs": [],
   "source": [
    "x_columns = [x for x in distance_columns if x != \"MP\"]\n",
    "\n",
    "# The column that we want to predict.\n",
    "y_column = [\"MP\"]"
   ]
  },
  {
   "cell_type": "code",
   "execution_count": 39,
   "metadata": {
    "collapsed": false
   },
   "outputs": [],
   "source": [
    "from sklearn.neighbors import KNeighborsRegressor\n",
    "\n",
    "# Create the knn model.\n",
    "# Look at the five closest neighbors.\n",
    "knn = KNeighborsRegressor(n_neighbors=5)\n",
    "\n",
    "# Fit the model on the training data.\n",
    "knn.fit(train[x_columns], train[y_column])\n",
    "\n",
    "# Make point predictions on the test set using the fit model.\n",
    "predictions = knn.predict(test[x_columns])"
   ]
  },
  {
   "cell_type": "markdown",
   "metadata": {},
   "source": [
    "## Computing Error"
   ]
  },
  {
   "cell_type": "code",
   "execution_count": 40,
   "metadata": {
    "collapsed": false
   },
   "outputs": [
    {
     "name": "stdout",
     "output_type": "stream",
     "text": [
      "MP    0.150107\n",
      "dtype: float64\n"
     ]
    }
   ],
   "source": [
    "# Get the actual values for the test set.\n",
    "actual = test[y_column]\n",
    "\n",
    "# Compute the mean squared error of our predictions.\n",
    "mse = (((predictions - actual) ** 2).sum()) / len(predictions)\n",
    "\n",
    "print(mse)"
   ]
  },
  {
   "cell_type": "code",
   "execution_count": null,
   "metadata": {
    "collapsed": true
   },
   "outputs": [],
   "source": []
  }
 ],
 "metadata": {
  "kernelspec": {
   "display_name": "Python 3",
   "language": "python",
   "name": "python3"
  },
  "language_info": {
   "codemirror_mode": {
    "name": "ipython",
    "version": 3
   },
   "file_extension": ".py",
   "mimetype": "text/x-python",
   "name": "python",
   "nbconvert_exporter": "python",
   "pygments_lexer": "ipython3",
   "version": "3.4.4"
  }
 },
 "nbformat": 4,
 "nbformat_minor": 0
}
