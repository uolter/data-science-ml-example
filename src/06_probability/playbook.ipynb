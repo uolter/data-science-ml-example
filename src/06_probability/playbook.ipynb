{
 "cells": [
  {
   "cell_type": "markdown",
   "metadata": {},
   "source": [
    "You should think of probability as a way of quantifying the **uncertainty** associated with events chosen from a some universe of events. Rather than getting technical about what these terms mean, think of rolling a die.\n",
    "\n",
    "The universe consists of all possible outcomes. And any subset of these outcomes is an event; for example, “the die rolls a one” or “the die rolls an even number.”"
   ]
  },
  {
   "cell_type": "markdown",
   "metadata": {},
   "source": [
    "## Dependence and Independence\n",
    "\n",
    "We say that two events E and F are dependent if knowing something about whether E happens gives us information about whether F happens (and vice versa). Otherwise they are independent."
   ]
  },
  {
   "cell_type": "markdown",
   "metadata": {},
   "source": [
    "Mathematically, we say that two events E and F are independent if the probability that\n",
    "they both happen is the product of the probabilities that each one happens:\n",
    "\n",
    "$ P(E,F) = P(E) P(F) $"
   ]
  },
  {
   "cell_type": "markdown",
   "metadata": {},
   "source": [
    "## Conditional Probability"
   ]
  },
  {
   "cell_type": "markdown",
   "metadata": {},
   "source": [
    "We define the probability of E “conditional on F” as:\n",
    "\n",
    "$ P(E|F) = \\frac{P(E,F)}{P(F)} $\n",
    "\n",
    "or\n",
    "\n",
    "$ P(E,F) = P(E|F) P(F) $\n",
    "\n",
    "When E and F are independent, you can check that this gives:\n",
    "\n",
    "$ P(E|F) = P(E) $"
   ]
  },
  {
   "cell_type": "code",
   "execution_count": 1,
   "metadata": {
    "collapsed": false
   },
   "outputs": [
    {
     "name": "stdout",
     "output_type": "stream",
     "text": [
      "P(both | older)  0.5007089325501317\n",
      "P(both | either)  0.3311897106109325\n"
     ]
    }
   ],
   "source": [
    "import random\n",
    "\n",
    "def random_kid():\n",
    "    return random.choice(['boy', 'girl'])\n",
    "\n",
    "both_girls = older_girl = either_girl = 0\n",
    "\n",
    "random.seed(0)\n",
    "\n",
    "for _ in range(10000):\n",
    "    younger = random_kid()\n",
    "    older = random_kid()\n",
    "    \n",
    "    if older == 'girl':\n",
    "        older_girl += 1\n",
    "    if older == 'girl' and younger == 'girl':\n",
    "        both_girls += 1 \n",
    "    if older == 'girl' or younger == 'girl':\n",
    "        either_girl += 1\n",
    "        \n",
    "\n",
    "print(\"P(both | older) \", both_girls / older_girl)\n",
    "print(\"P(both | either) \", both_girls / either_girl )"
   ]
  },
  {
   "cell_type": "markdown",
   "metadata": {},
   "source": [
    "### Example explenation\n",
    "\n",
    "Example above involves a family with two (unknown) children.\n",
    "If we assume that:\n",
    "1. Each child is equally likely to be a boy or a girl.\n",
    "2. The gender of the second child is independent of the gender of the first child.\n",
    "\n",
    "\n",
    "- the event “no girls” has probability **1/4**\n",
    "- the event “one girl, one boy” has probability **1/2**\n",
    "- he event “two girls” has probability **1/4**"
   ]
  },
  {
   "cell_type": "markdown",
   "metadata": {},
   "source": [
    "What is the probability of the event “both children are girls” (B) conditional on the event \n",
    "“the older child is a girl” (G)\n",
    "\n",
    "$ P(B|G) = ? $\n",
    "\n",
    "$ P(B|G) = \\frac{P(B,G)}{P(G)} $\n",
    "\n",
    "$ P(B|G) = \\frac{P(B)}{P(G)} = \\frac{1}{2} $"
   ]
  },
  {
   "cell_type": "markdown",
   "metadata": {
    "collapsed": true
   },
   "source": [
    "## Baye's Theorem\n",
    "\n",
    "Let’s say we need to know the probability of some event E conditional on some other event F occurring. But we only have information about the probability of F conditional on E occurring."
   ]
  },
  {
   "cell_type": "markdown",
   "metadata": {},
   "source": [
    "$ P(E|F)=P(E,F)/P(F) = P(F|E)P(E)/P(F) $\n",
    "\n",
    "The event F can be split into the two mutually exclusive events “F and E” and “F and not E.\n",
    "\n",
    "$ P(F)=P(F,E)+P(F,\\neg E) $\n",
    "\n",
    "so that\n",
    "\n",
    "$ P(E|F) = \\frac{P(F|E)P(E))}{P(F|E)P(E) + P(F| \\neg E) P(\\neg E)} $\n"
   ]
  },
  {
   "cell_type": "markdown",
   "metadata": {},
   "source": [
    "### Example\n",
    "\n",
    "Imagine a certain disease that affects 1 in every 10000 people.\n",
    "And imagine that there is a test for this disease that gives the correct result (“diseased” if you have the disease, “nondiseased” if you don’t) 99% of the time.\n",
    "\n",
    "- T is the event “your test is positive” \n",
    "- D is the event “you have the disease.”\n",
    "\n",
    "$ P(T|D) = 0.99 $\n",
    "\n",
    "$ P(D) = \\frac{1}{10000} = 0.0001 $ \n",
    "\n",
    "$ P(T|\\neg D) = 1-0.99 = 0.01 $\n",
    "\n",
    "$ P(\\neg D) = 1 - 0.0001 = 0.9999$"
   ]
  },
  {
   "cell_type": "markdown",
   "metadata": {},
   "source": [
    "Bayes’s Theorem says that the probability that you have the disease, conditional on testing positive, is:\n",
    "\n",
    "$ P(D|T) = \\frac{P(T|D)P(D)}{P(T|D)P(D) + P(T|\\neg D)P(\\neg D)} $\n",
    "\n",
    "$ P(D|T) = 0.98 $ \n",
    "\n",
    "98%\n",
    "\n",
    "Less than 1% of the people who test positive actually have the disease."
   ]
  },
  {
   "cell_type": "markdown",
   "metadata": {},
   "source": [
    "# Random Variables\n",
    "\n",
    "A random variable is a variable whose possible values have an associated probability\n",
    "distribution.\n",
    "\n",
    "A very simple random variable equals 1 if a coin flip turns up heads and 0 if the flip turns up tails. A more complicated one might measure the number of heads observed when flipping a coin 10 times or a value picked from range(10) where each number is equally likely.\n",
    "\n",
    "The coin flip variable equals 0 with probability 0.5 and 1 with probability 0.5.\n",
    "\n",
    "The **expected value** of a random variable, which is the average of its values weighted by their probabilities. The coin flip variable has an expected value of 1/2 (= 0 * 1/2 + 1 * 1/2), and the range(10) variable has an expected value of 4.5."
   ]
  },
  {
   "cell_type": "markdown",
   "metadata": {},
   "source": [
    "## Continuous Distributions\n",
    "\n",
    "A coin flip corresponds to a discrete distribution but often we’ll want to model distributions across a continuum of outcomes. (For our purposes, these outcomes will always be real numbers, although that’s not always the case in real life.) For example, the uniform distribution puts equal weight on all the numbers between 0 and 1.\n",
    "\n",
    "We represent a continuous distribution with a probability **density function** (pdf) such that the probability of seeing a value in a certain interval equals the integral of the density function over the interval."
   ]
  },
  {
   "cell_type": "code",
   "execution_count": 2,
   "metadata": {
    "collapsed": true
   },
   "outputs": [],
   "source": [
    "%matplotlib inline\n",
    "\n",
    "from matplotlib import pyplot as plt\n",
    "from collections import Counter\n",
    "import math, random\n",
    "\n",
    "def uniform_pdf(x):\n",
    "    return 1 if x >=0 and x < 1 else 0\n"
   ]
  },
  {
   "cell_type": "markdown",
   "metadata": {},
   "source": [
    "We will often be more interested in the **cumulative distribution function** (cdf), which\n",
    "gives the probability that a random variable is less than or equal to a certain value"
   ]
  },
  {
   "cell_type": "code",
   "execution_count": 3,
   "metadata": {
    "collapsed": false
   },
   "outputs": [
    {
     "data": {
      "image/png": "[encoded data removed]",
      "text/plain": [
       "<matplotlib.figure.Figure at 0x7fbaa41bcac8>"
      ]
     },
     "metadata": {},
     "output_type": "display_data"
    }
   ],
   "source": [
    "def uniform_cdf(x):\n",
    "    if x < 0: return 0   # never less than 0\n",
    "    elif x < 1: return x # P(x<0.4) = 0.4\n",
    "    else: return 1 # always less than 1\n",
    "    \n",
    "def plot_uniform_cdf():\n",
    "    xs = [x/2 for x in range(-2,5)]\n",
    "    plot_margin = 0.5\n",
    "    plt.plot(xs,[uniform_cdf(x) for x in xs],'-')\n",
    "    plt.title(\"The uniform cdf\")\n",
    "    x0, x1, y0, y1 = plt.axis()\n",
    "    plt.axis((x0 - plot_margin,\n",
    "              x1 + plot_margin,\n",
    "              y0 - plot_margin,\n",
    "              y1 + plot_margin))\n",
    "    plt.show()\n",
    "    \n",
    "plot_uniform_cdf()\n",
    "    "
   ]
  },
  {
   "cell_type": "markdown",
   "metadata": {},
   "source": [
    "# Normal Distribution\n",
    "\n",
    "\n",
    "\n",
    "$ P(x) = \\frac{1}{{\\sigma \\sqrt {2\\pi }}}exp(-\\frac{(x-\\mu)^2}{2 \\sigma^2}) $\n",
    "\n",
    "$v \\sim \\mathcal{N} (m,\\sigma^2)$\n",
    "\n",
    "It is the classic bell **curve–shaped** distribution and is completely determined by two parameters: its mean μ (mu) and its standard deviation σ (sigma). The mean indicates where the bell is centered, and the standard deviation how “wide” it is."
   ]
  },
  {
   "cell_type": "code",
   "execution_count": 4,
   "metadata": {
    "collapsed": false
   },
   "outputs": [
    {
     "data": {
      "image/png": "[encoded data removed]",
      "text/plain": [
       "<matplotlib.figure.Figure at 0x7fbaa3478048>"
      ]
     },
     "metadata": {},
     "output_type": "display_data"
    }
   ],
   "source": [
    "import scipy.stats\n",
    "\n",
    "def normal_pdf(x, mu=0, sigma=1):\n",
    "    #sqrt_two_pi = math.sqrt(2 * math.pi)\n",
    "    #return (math.exp(-(x-mu) ** 2 / 2 / sigma ** 2) / (sqrt_two_pi * sigma))\n",
    "    # with scipy\n",
    "    return scipy.stats.norm(mu, sigma).pdf(x)\n",
    "    \n",
    "def plot_normal_pdfs():\n",
    "    xs = [x / 10.0 for x in range(-50, 50)]\n",
    "    plt.plot(xs,[normal_pdf(x,sigma=1) for x in xs],'-',label='mu=0,sigma=1')\n",
    "    plt.plot(xs,[normal_pdf(x,sigma=2) for x in xs],'--',label='mu=0,sigma=2')\n",
    "    plt.plot(xs,[normal_pdf(x,sigma=0.5) for x in xs],':',label='mu=0,sigma=0.5')\n",
    "    plt.plot(xs,[normal_pdf(x,mu=-1)   for x in xs],'-.',label='mu=-1,sigma=1')\n",
    "    plt.legend()\n",
    "    plt.show()\n",
    "    \n",
    "plot_normal_pdfs()"
   ]
  },
  {
   "cell_type": "markdown",
   "metadata": {},
   "source": [
    "When μ = 0 and σ = 1, it’s called the **standard normal distribution**. If Z is a standard\n",
    "normal random variable, then it turns out that:\n",
    "\n",
    "X = σZ + μ\n",
    "\n",
    "is also normal but with **mean μ** and **standard deviation σ** . \n",
    "\n",
    "Conversely, if X is a normal random variable with mean μ and standard deviation σ ,\n",
    "\n",
    "Z = X − μ /σ\n",
    "\n",
    "is a standard normal variable."
   ]
  },
  {
   "cell_type": "code",
   "execution_count": 5,
   "metadata": {
    "collapsed": false
   },
   "outputs": [
    {
     "data": {
      "image/png": "[encoded data removed]",
      "text/plain": [
       "<matplotlib.figure.Figure at 0x7fbaa347ea90>"
      ]
     },
     "metadata": {},
     "output_type": "display_data"
    }
   ],
   "source": [
    "def normal_cdf(x, mu=0,sigma=1):    \n",
    "    # return (1 + math.erf((x - mu) / math.sqrt(2) / sigma)) / 2\n",
    "    # with scipy:\n",
    "    return scipy.stats.norm(mu, sigma).cdf(x)\n",
    "\n",
    "\n",
    "def plot_normal_cdfs():\n",
    "    xs = [x / 10.0 for x in range(-50, 50)]\n",
    "    plt.plot(xs,[normal_cdf(x,sigma=1) for x in xs],'-',label='mu=0,sigma=1')\n",
    "    plt.plot(xs,[normal_cdf(x,sigma=2) for x in xs],'--',label='mu=0,sigma=2')\n",
    "    plt.plot(xs,[normal_cdf(x,sigma=0.5) for x in xs],':',label='mu=0,sigma=0.5')\n",
    "    plt.plot(xs,[normal_cdf(x,mu=-1) for x in xs],'-.',label='mu=-1,sigma=1')\n",
    "    plt.legend(loc=4) # bottom right\n",
    "    plt.show()\n",
    "\n",
    "plot_normal_cdfs()"
   ]
  },
  {
   "cell_type": "code",
   "execution_count": 6,
   "metadata": {
    "collapsed": true
   },
   "outputs": [],
   "source": [
    "def inverse_normal_cdf(p, mu=0, sigma=1, tolerance=0.00001):\n",
    "    \"\"\"find approximate inverse using binary search\"\"\"\n",
    "\n",
    "    # if not standard, compute standard and rescale\n",
    "    if mu != 0 or sigma != 1:\n",
    "        return mu + sigma * inverse_normal_cdf(p, tolerance=tolerance)\n",
    "\n",
    "    low_z, low_p = -10.0, 0            # normal_cdf(-10) is (very close to) 0\n",
    "    hi_z,  hi_p  =  10.0, 1            # normal_cdf(10)  is (very close to) 1\n",
    "    while hi_z - low_z > tolerance:\n",
    "        mid_z = (low_z + hi_z) / 2     # consider the midpoint\n",
    "        mid_p = normal_cdf(mid_z)      # and the cdf's value there\n",
    "        if mid_p < p:\n",
    "            # midpoint is still too low, search above it\n",
    "            low_z, low_p = mid_z, mid_p\n",
    "        elif mid_p > p:\n",
    "            # midpoint is still too high, search below it\n",
    "            hi_z, hi_p = mid_z, mid_p\n",
    "        else:\n",
    "            break\n",
    "\n",
    "    return mid_z"
   ]
  },
  {
   "cell_type": "markdown",
   "metadata": {},
   "source": [
    "# The central Limit Theorem"
   ]
  },
  {
   "cell_type": "markdown",
   "metadata": {},
   "source": [
    "A random variable defined as the average of a large number of independent and identically distributed random variables is itself approximately normally distributed.\n",
    "\n",
    "In particular, if x 1 , ..., x n are random variables with mean μ and standard deviation σ ,and if n is large, then:\n",
    "\n",
    "$ \\frac{1}{n} (x_{1}+x_{2} + ... + x_{n}) $\n",
    "\n",
    "is **approximately normally distributed** with **mean μ** and **standard deviation σ/ n** .\n",
    "\n",
    "Equivalently (but often more usefully),\n",
    "$ \\frac{(x_{1} + ... + x_{n}) − \\mu n}{\\sigma \\sqrt{n}} $\n",
    "\n",
    "is approximately normally distributed with mean 0 and standard deviation 1."
   ]
  },
  {
   "cell_type": "markdown",
   "metadata": {},
   "source": [
    "## Binomial "
   ]
  },
  {
   "cell_type": "code",
   "execution_count": 7,
   "metadata": {
    "collapsed": false
   },
   "outputs": [],
   "source": [
    "def bernoulli_trial(p):\n",
    "    return 1 if random.random() < p else 0\n",
    "\n",
    "def binomial(n, p):\n",
    "    return sum(bernoulli_trial(p) for _ in range(n))"
   ]
  },
  {
   "cell_type": "markdown",
   "metadata": {},
   "source": [
    "The mean of a Bernoulli(p) variable is p, and its standard deviation is $ \\sqrt{ p(1 − p)} $ . The **central limit theorem** says that as n gets large, a Binomial(n,p) variable is approxi‐mately a normal random variable with mean μ = np and standard deviation\n",
    "$ \\sigma = \\sqrt{np(1 − p)} $. If we plot both, you can easily see the resemblance;"
   ]
  },
  {
   "cell_type": "code",
   "execution_count": 8,
   "metadata": {
    "collapsed": false
   },
   "outputs": [
    {
     "data": {
      "image/png": "[encoded data removed]",
      "text/plain": [
       "<matplotlib.figure.Figure at 0x7fbaa1431048>"
      ]
     },
     "metadata": {},
     "output_type": "display_data"
    }
   ],
   "source": [
    "def make_hist(p, n, num_points):\n",
    "\n",
    "    data = [binomial(n, p) for _ in range(num_points)]\n",
    "\n",
    "    # use a bar chart to show the actual binomial samples\n",
    "    histogram = Counter(data)\n",
    "    plt.bar([x - 0.4 for x in histogram.keys()],\n",
    "            [v / num_points for v in histogram.values()],\n",
    "            0.8,\n",
    "            color='0.75')\n",
    "\n",
    "    mu = p * n\n",
    "    sigma = math.sqrt(n * p * (1 - p))\n",
    "\n",
    "    # use a line chart to show the normal approximation\n",
    "    xs = range(min(data), max(data) + 1)\n",
    "    ys = [normal_cdf(i + 0.5, mu, sigma) - normal_cdf(i - 0.5, mu, sigma)\n",
    "          for i in xs]\n",
    "    plt.plot(xs,ys)\n",
    "    plt.show()\n",
    "    \n",
    "make_hist(0.75, 100, 10000)"
   ]
  },
  {
   "cell_type": "code",
   "execution_count": null,
   "metadata": {
    "collapsed": true
   },
   "outputs": [],
   "source": []
  }
 ],
 "metadata": {
  "kernelspec": {
   "display_name": "Python 3",
   "language": "python",
   "name": "python3"
  },
  "language_info": {
   "codemirror_mode": {
    "name": "ipython",
    "version": 3
   },
   "file_extension": ".py",
   "mimetype": "text/x-python",
   "name": "python",
   "nbconvert_exporter": "python",
   "pygments_lexer": "ipython3",
   "version": "3.4.4"
  }
 },
 "nbformat": 4,
 "nbformat_minor": 0
}
